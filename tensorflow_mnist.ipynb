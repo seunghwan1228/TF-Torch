{
  "nbformat": 4,
  "nbformat_minor": 0,
  "metadata": {
    "colab": {
      "name": "tensorflow_mnist.ipynb",
      "provenance": [],
      "authorship_tag": "ABX9TyO873JSldNBMZ/lZ89Ydx+Z",
      "include_colab_link": true
    },
    "kernelspec": {
      "name": "python3",
      "display_name": "Python 3"
    },
    "language_info": {
      "name": "python"
    },
    "accelerator": "GPU",
    "widgets": {
      "application/vnd.jupyter.widget-state+json": {
        "842f0547d1da4bf28363cb48f55fbe9e": {
          "model_module": "@jupyter-widgets/controls",
          "model_name": "HBoxModel",
          "model_module_version": "1.5.0",
          "state": {
            "_view_name": "HBoxView",
            "_dom_classes": [],
            "_model_name": "HBoxModel",
            "_view_module": "@jupyter-widgets/controls",
            "_model_module_version": "1.5.0",
            "_view_count": null,
            "_view_module_version": "1.5.0",
            "box_style": "",
            "layout": "IPY_MODEL_04fd7d8a185544f5b23487edf24d8494",
            "_model_module": "@jupyter-widgets/controls",
            "children": [
              "IPY_MODEL_0bc6b87ea14e466d8f6f4ca3d736314b",
              "IPY_MODEL_bb70a37f5f7b4c5080f37bb472921fc1",
              "IPY_MODEL_7b1e9e2f2e6f4ab89718d9779e468aa1"
            ]
          }
        },
        "04fd7d8a185544f5b23487edf24d8494": {
          "model_module": "@jupyter-widgets/base",
          "model_name": "LayoutModel",
          "model_module_version": "1.2.0",
          "state": {
            "_view_name": "LayoutView",
            "grid_template_rows": null,
            "right": null,
            "justify_content": null,
            "_view_module": "@jupyter-widgets/base",
            "overflow": null,
            "_model_module_version": "1.2.0",
            "_view_count": null,
            "flex_flow": null,
            "width": null,
            "min_width": null,
            "border": null,
            "align_items": null,
            "bottom": null,
            "_model_module": "@jupyter-widgets/base",
            "top": null,
            "grid_column": null,
            "overflow_y": null,
            "overflow_x": null,
            "grid_auto_flow": null,
            "grid_area": null,
            "grid_template_columns": null,
            "flex": null,
            "_model_name": "LayoutModel",
            "justify_items": null,
            "grid_row": null,
            "max_height": null,
            "align_content": null,
            "visibility": null,
            "align_self": null,
            "height": null,
            "min_height": null,
            "padding": null,
            "grid_auto_rows": null,
            "grid_gap": null,
            "max_width": null,
            "order": null,
            "_view_module_version": "1.2.0",
            "grid_template_areas": null,
            "object_position": null,
            "object_fit": null,
            "grid_auto_columns": null,
            "margin": null,
            "display": null,
            "left": null
          }
        },
        "0bc6b87ea14e466d8f6f4ca3d736314b": {
          "model_module": "@jupyter-widgets/controls",
          "model_name": "HTMLModel",
          "model_module_version": "1.5.0",
          "state": {
            "_view_name": "HTMLView",
            "style": "IPY_MODEL_2305e03fa1bd4674a46adc07444f29ee",
            "_dom_classes": [],
            "description": "",
            "_model_name": "HTMLModel",
            "placeholder": "​",
            "_view_module": "@jupyter-widgets/controls",
            "_model_module_version": "1.5.0",
            "value": "100%",
            "_view_count": null,
            "_view_module_version": "1.5.0",
            "description_tooltip": null,
            "_model_module": "@jupyter-widgets/controls",
            "layout": "IPY_MODEL_98981324c7bb4b97bfe9cbbc018762be"
          }
        },
        "bb70a37f5f7b4c5080f37bb472921fc1": {
          "model_module": "@jupyter-widgets/controls",
          "model_name": "FloatProgressModel",
          "model_module_version": "1.5.0",
          "state": {
            "_view_name": "ProgressView",
            "style": "IPY_MODEL_c90da52edc5247f1be81252bc042681b",
            "_dom_classes": [],
            "description": "",
            "_model_name": "FloatProgressModel",
            "bar_style": "success",
            "max": 100,
            "_view_module": "@jupyter-widgets/controls",
            "_model_module_version": "1.5.0",
            "value": 100,
            "_view_count": null,
            "_view_module_version": "1.5.0",
            "orientation": "horizontal",
            "min": 0,
            "description_tooltip": null,
            "_model_module": "@jupyter-widgets/controls",
            "layout": "IPY_MODEL_e451fa4e36034099914a9e1e79cf7a76"
          }
        },
        "7b1e9e2f2e6f4ab89718d9779e468aa1": {
          "model_module": "@jupyter-widgets/controls",
          "model_name": "HTMLModel",
          "model_module_version": "1.5.0",
          "state": {
            "_view_name": "HTMLView",
            "style": "IPY_MODEL_f2cdac26c73b4aa0aab500bf52d0a645",
            "_dom_classes": [],
            "description": "",
            "_model_name": "HTMLModel",
            "placeholder": "​",
            "_view_module": "@jupyter-widgets/controls",
            "_model_module_version": "1.5.0",
            "value": " 100/100 [16:21&lt;00:00, 10.06s/it]",
            "_view_count": null,
            "_view_module_version": "1.5.0",
            "description_tooltip": null,
            "_model_module": "@jupyter-widgets/controls",
            "layout": "IPY_MODEL_2355e1cc473345ae9b71afa371eccf31"
          }
        },
        "2305e03fa1bd4674a46adc07444f29ee": {
          "model_module": "@jupyter-widgets/controls",
          "model_name": "DescriptionStyleModel",
          "model_module_version": "1.5.0",
          "state": {
            "_view_name": "StyleView",
            "_model_name": "DescriptionStyleModel",
            "description_width": "",
            "_view_module": "@jupyter-widgets/base",
            "_model_module_version": "1.5.0",
            "_view_count": null,
            "_view_module_version": "1.2.0",
            "_model_module": "@jupyter-widgets/controls"
          }
        },
        "98981324c7bb4b97bfe9cbbc018762be": {
          "model_module": "@jupyter-widgets/base",
          "model_name": "LayoutModel",
          "model_module_version": "1.2.0",
          "state": {
            "_view_name": "LayoutView",
            "grid_template_rows": null,
            "right": null,
            "justify_content": null,
            "_view_module": "@jupyter-widgets/base",
            "overflow": null,
            "_model_module_version": "1.2.0",
            "_view_count": null,
            "flex_flow": null,
            "width": null,
            "min_width": null,
            "border": null,
            "align_items": null,
            "bottom": null,
            "_model_module": "@jupyter-widgets/base",
            "top": null,
            "grid_column": null,
            "overflow_y": null,
            "overflow_x": null,
            "grid_auto_flow": null,
            "grid_area": null,
            "grid_template_columns": null,
            "flex": null,
            "_model_name": "LayoutModel",
            "justify_items": null,
            "grid_row": null,
            "max_height": null,
            "align_content": null,
            "visibility": null,
            "align_self": null,
            "height": null,
            "min_height": null,
            "padding": null,
            "grid_auto_rows": null,
            "grid_gap": null,
            "max_width": null,
            "order": null,
            "_view_module_version": "1.2.0",
            "grid_template_areas": null,
            "object_position": null,
            "object_fit": null,
            "grid_auto_columns": null,
            "margin": null,
            "display": null,
            "left": null
          }
        },
        "c90da52edc5247f1be81252bc042681b": {
          "model_module": "@jupyter-widgets/controls",
          "model_name": "ProgressStyleModel",
          "model_module_version": "1.5.0",
          "state": {
            "_view_name": "StyleView",
            "_model_name": "ProgressStyleModel",
            "description_width": "",
            "_view_module": "@jupyter-widgets/base",
            "_model_module_version": "1.5.0",
            "_view_count": null,
            "_view_module_version": "1.2.0",
            "bar_color": null,
            "_model_module": "@jupyter-widgets/controls"
          }
        },
        "e451fa4e36034099914a9e1e79cf7a76": {
          "model_module": "@jupyter-widgets/base",
          "model_name": "LayoutModel",
          "model_module_version": "1.2.0",
          "state": {
            "_view_name": "LayoutView",
            "grid_template_rows": null,
            "right": null,
            "justify_content": null,
            "_view_module": "@jupyter-widgets/base",
            "overflow": null,
            "_model_module_version": "1.2.0",
            "_view_count": null,
            "flex_flow": null,
            "width": null,
            "min_width": null,
            "border": null,
            "align_items": null,
            "bottom": null,
            "_model_module": "@jupyter-widgets/base",
            "top": null,
            "grid_column": null,
            "overflow_y": null,
            "overflow_x": null,
            "grid_auto_flow": null,
            "grid_area": null,
            "grid_template_columns": null,
            "flex": null,
            "_model_name": "LayoutModel",
            "justify_items": null,
            "grid_row": null,
            "max_height": null,
            "align_content": null,
            "visibility": null,
            "align_self": null,
            "height": null,
            "min_height": null,
            "padding": null,
            "grid_auto_rows": null,
            "grid_gap": null,
            "max_width": null,
            "order": null,
            "_view_module_version": "1.2.0",
            "grid_template_areas": null,
            "object_position": null,
            "object_fit": null,
            "grid_auto_columns": null,
            "margin": null,
            "display": null,
            "left": null
          }
        },
        "f2cdac26c73b4aa0aab500bf52d0a645": {
          "model_module": "@jupyter-widgets/controls",
          "model_name": "DescriptionStyleModel",
          "model_module_version": "1.5.0",
          "state": {
            "_view_name": "StyleView",
            "_model_name": "DescriptionStyleModel",
            "description_width": "",
            "_view_module": "@jupyter-widgets/base",
            "_model_module_version": "1.5.0",
            "_view_count": null,
            "_view_module_version": "1.2.0",
            "_model_module": "@jupyter-widgets/controls"
          }
        },
        "2355e1cc473345ae9b71afa371eccf31": {
          "model_module": "@jupyter-widgets/base",
          "model_name": "LayoutModel",
          "model_module_version": "1.2.0",
          "state": {
            "_view_name": "LayoutView",
            "grid_template_rows": null,
            "right": null,
            "justify_content": null,
            "_view_module": "@jupyter-widgets/base",
            "overflow": null,
            "_model_module_version": "1.2.0",
            "_view_count": null,
            "flex_flow": null,
            "width": null,
            "min_width": null,
            "border": null,
            "align_items": null,
            "bottom": null,
            "_model_module": "@jupyter-widgets/base",
            "top": null,
            "grid_column": null,
            "overflow_y": null,
            "overflow_x": null,
            "grid_auto_flow": null,
            "grid_area": null,
            "grid_template_columns": null,
            "flex": null,
            "_model_name": "LayoutModel",
            "justify_items": null,
            "grid_row": null,
            "max_height": null,
            "align_content": null,
            "visibility": null,
            "align_self": null,
            "height": null,
            "min_height": null,
            "padding": null,
            "grid_auto_rows": null,
            "grid_gap": null,
            "max_width": null,
            "order": null,
            "_view_module_version": "1.2.0",
            "grid_template_areas": null,
            "object_position": null,
            "object_fit": null,
            "grid_auto_columns": null,
            "margin": null,
            "display": null,
            "left": null
          }
        }
      }
    }
  },
  "cells": [
    {
      "cell_type": "markdown",
      "metadata": {
        "id": "view-in-github",
        "colab_type": "text"
      },
      "source": [
        "<a href=\"https://colab.research.google.com/github/seunghwan1228/TF-Torch/blob/main/tensorflow_mnist.ipynb\" target=\"_parent\"><img src=\"https://colab.research.google.com/assets/colab-badge.svg\" alt=\"Open In Colab\"/></a>"
      ]
    },
    {
      "cell_type": "code",
      "metadata": {
        "id": "27w3cJfDwVWW"
      },
      "source": [
        "import numpy as np\n",
        "import os\n",
        "import matplotlib.pyplot as plt\n",
        "import random\n",
        "\n",
        "import tensorflow as tf\n",
        "\n",
        "\n",
        "from tqdm.notebook import tqdm\n",
        "\n",
        "import time"
      ],
      "execution_count": 66,
      "outputs": []
    },
    {
      "cell_type": "code",
      "metadata": {
        "colab": {
          "base_uri": "https://localhost:8080/"
        },
        "id": "ws_Gcg7VwfyI",
        "outputId": "c1345c33-1ae5-4a46-c13b-a872d0326949"
      },
      "source": [
        "(x_train, y_train), (x_test, y_test) = tf.keras.datasets.mnist.load_data()"
      ],
      "execution_count": 2,
      "outputs": [
        {
          "output_type": "stream",
          "name": "stdout",
          "text": [
            "Downloading data from https://storage.googleapis.com/tensorflow/tf-keras-datasets/mnist.npz\n",
            "11493376/11490434 [==============================] - 0s 0us/step\n",
            "11501568/11490434 [==============================] - 0s 0us/step\n"
          ]
        }
      ]
    },
    {
      "cell_type": "code",
      "metadata": {
        "id": "P18IOs1xwlT3"
      },
      "source": [
        "@tf.function\n",
        "def scale(x, y):\n",
        "  x = tf.cast(x, tf.float32)\n",
        "  x = tf.expand_dims(x, -1)\n",
        "  x = x/255.\n",
        "  return (x, y)\n",
        "\n",
        "\n",
        "def data_loader(x, y):\n",
        "  ds = tf.data.Dataset.from_tensor_slices((x,y))\n",
        "  ds = ds.map(scale)\n",
        "  ds = ds.batch(512)\n",
        "  ds = ds.prefetch(tf.data.AUTOTUNE)\n",
        "  return ds"
      ],
      "execution_count": 20,
      "outputs": []
    },
    {
      "cell_type": "code",
      "metadata": {
        "id": "22h0bPGhwybb"
      },
      "source": [
        "train_loader = data_loader(x_train, y_train)\n",
        "valid_loader = data_loader(x_test, y_test)"
      ],
      "execution_count": 21,
      "outputs": []
    },
    {
      "cell_type": "code",
      "metadata": {
        "colab": {
          "base_uri": "https://localhost:8080/"
        },
        "id": "SeA2r4Hsw0ya",
        "outputId": "519fb1ab-fda9-469a-dff8-1ec6a3f3110f"
      },
      "source": [
        "train_loader.cardinality()"
      ],
      "execution_count": 22,
      "outputs": [
        {
          "output_type": "execute_result",
          "data": {
            "text/plain": [
              "<tf.Tensor: shape=(), dtype=int64, numpy=118>"
            ]
          },
          "metadata": {},
          "execution_count": 22
        }
      ]
    },
    {
      "cell_type": "code",
      "metadata": {
        "id": "gA3Wq8kHx1-i"
      },
      "source": [
        "tmp_img, tmp_label = next(iter(train_loader))"
      ],
      "execution_count": 23,
      "outputs": []
    },
    {
      "cell_type": "code",
      "metadata": {
        "colab": {
          "base_uri": "https://localhost:8080/"
        },
        "id": "ezKZFNxix4il",
        "outputId": "74733316-507b-4be5-e320-1f637bd6eefe"
      },
      "source": [
        "tmp_img.shape, tf.reduce_mean(tmp_img), tf.math.reduce_std(tmp_img)"
      ],
      "execution_count": 25,
      "outputs": [
        {
          "output_type": "execute_result",
          "data": {
            "text/plain": [
              "(TensorShape([512, 28, 28, 1]),\n",
              " <tf.Tensor: shape=(), dtype=float32, numpy=0.12575655>,\n",
              " <tf.Tensor: shape=(), dtype=float32, numpy=0.30235657>)"
            ]
          },
          "metadata": {},
          "execution_count": 25
        }
      ]
    },
    {
      "cell_type": "code",
      "metadata": {
        "id": "14W9I9TgyUNJ"
      },
      "source": [
        "class MnistLinearModel(tf.keras.Model):\n",
        "  def __init__(self, num_units, num_layers, output_classes):\n",
        "    super(MnistLinearModel, self).__init__()\n",
        "\n",
        "    self.input_layer = tf.keras.layers.Dense(num_units, activation='relu')\n",
        "    self.hiddens = [tf.keras.layers.Dense(num_units, activation='relu') for _ in range(num_layers)]\n",
        "    self.output_layer = tf.keras.layers.Dense(output_classes)\n",
        "\n",
        "  def call(self, inputs):\n",
        "    x = tf.keras.layers.Flatten()(inputs)\n",
        "    x = self.input_layer(x)\n",
        "    for l in self.hiddens:\n",
        "      x = l(x)\n",
        "    return self.output_layer(x)"
      ],
      "execution_count": 42,
      "outputs": []
    },
    {
      "cell_type": "code",
      "metadata": {
        "id": "95AosfaTzBvA"
      },
      "source": [
        "tmp_model = MnistLinearModel(32, 5, 10)"
      ],
      "execution_count": 43,
      "outputs": []
    },
    {
      "cell_type": "code",
      "metadata": {
        "id": "cbGbyzIAzECC"
      },
      "source": [
        "tmp_model.build(input_shape=(28,28,1))"
      ],
      "execution_count": 44,
      "outputs": []
    },
    {
      "cell_type": "code",
      "metadata": {
        "colab": {
          "base_uri": "https://localhost:8080/"
        },
        "id": "wKRGla1pzPrI",
        "outputId": "936afe93-b558-46de-d327-179ce7ffc86a"
      },
      "source": [
        "tmp_model.summary()"
      ],
      "execution_count": 45,
      "outputs": [
        {
          "output_type": "stream",
          "name": "stdout",
          "text": [
            "Model: \"mnist_linear_model_4\"\n",
            "_________________________________________________________________\n",
            "Layer (type)                 Output Shape              Param #   \n",
            "=================================================================\n",
            "dense_27 (Dense)             multiple                  928       \n",
            "_________________________________________________________________\n",
            "dense_28 (Dense)             multiple                  1056      \n",
            "_________________________________________________________________\n",
            "dense_29 (Dense)             multiple                  1056      \n",
            "_________________________________________________________________\n",
            "dense_30 (Dense)             multiple                  1056      \n",
            "_________________________________________________________________\n",
            "dense_31 (Dense)             multiple                  1056      \n",
            "_________________________________________________________________\n",
            "dense_32 (Dense)             multiple                  1056      \n",
            "_________________________________________________________________\n",
            "dense_33 (Dense)             multiple                  330       \n",
            "=================================================================\n",
            "Total params: 6,538\n",
            "Trainable params: 6,538\n",
            "Non-trainable params: 0\n",
            "_________________________________________________________________\n"
          ]
        }
      ]
    },
    {
      "cell_type": "code",
      "metadata": {
        "id": "EML0g0IJzSpa"
      },
      "source": [
        "def train(model, train_data, valid_data, loss_module, optimizer, epochs=100):\n",
        "  __start = time.time()\n",
        "  train_acc = tf.keras.metrics.SparseCategoricalAccuracy()\n",
        "  train_loss = tf.keras.metrics.Mean(name='Train-Loss')\n",
        "  valid_acc = tf.keras.metrics.SparseCategoricalAccuracy()\n",
        "  valid_loss = tf.keras.metrics.Mean(name='Valid-Loss')\n",
        "\n",
        "  for epoch in tqdm(range(1, epochs+1)):\n",
        "    train_acc.reset_states()\n",
        "    valid_acc.reset_states()\n",
        "    \n",
        "    train_loss.reset_states()\n",
        "    valid_loss.reset_states()\n",
        "\n",
        "    # Train\n",
        "    for img, label in train_data:\n",
        "      with tf.GradientTape() as tape:\n",
        "        pred = model(img)\n",
        "        loss = loss_module(label, pred)\n",
        "      # grad = tape.gradient(loss, model.trainable_variables)\n",
        "      # optimizer.apply_gradients(zip(grad, model.trainable_variables))\n",
        "      optimizer.minimize(loss, model.trainable_variables, tape=tape)\n",
        "      train_loss(loss)\n",
        "      train_acc(label, pred)\n",
        "    \n",
        "    if epoch % 10 == 0:\n",
        "      print(f'epoch {epoch}\\tTrain: ',train_loss.result().numpy(), train_acc.result().numpy())\n",
        "    \n",
        "    for v_img, v_label in valid_data:\n",
        "      v_pred = model(v_img)\n",
        "      v_loss = loss_module(v_label, v_pred)\n",
        "\n",
        "      valid_acc(v_label, v_pred)\n",
        "      valid_loss(v_loss)\n",
        "    \n",
        "    if epoch % 10 == 0:\n",
        "      print(f'epoch {epoch}\\tValid: ',valid_loss.result().numpy(), valid_acc.result().numpy())\n",
        "  print(f'Complete: {time.time() - __start}')"
      ],
      "execution_count": 67,
      "outputs": []
    },
    {
      "cell_type": "code",
      "metadata": {
        "colab": {
          "base_uri": "https://localhost:8080/",
          "height": 406,
          "referenced_widgets": [
            "842f0547d1da4bf28363cb48f55fbe9e",
            "04fd7d8a185544f5b23487edf24d8494",
            "0bc6b87ea14e466d8f6f4ca3d736314b",
            "bb70a37f5f7b4c5080f37bb472921fc1",
            "7b1e9e2f2e6f4ab89718d9779e468aa1",
            "2305e03fa1bd4674a46adc07444f29ee",
            "98981324c7bb4b97bfe9cbbc018762be",
            "c90da52edc5247f1be81252bc042681b",
            "e451fa4e36034099914a9e1e79cf7a76",
            "f2cdac26c73b4aa0aab500bf52d0a645",
            "2355e1cc473345ae9b71afa371eccf31"
          ]
        },
        "id": "RSHoajYI1FjM",
        "outputId": "423ee884-9674-4861-b735-5375acfbbb4b"
      },
      "source": [
        "# GPU K80\n",
        "model = MnistLinearModel(32, 5, 10)\n",
        "loss_module = tf.keras.losses.SparseCategoricalCrossentropy(from_logits=True)\n",
        "optimizer = tf.keras.optimizers.Nadam()\n",
        "\n",
        "\n",
        "train(model, train_loader, valid_loader, loss_module, optimizer)"
      ],
      "execution_count": 68,
      "outputs": [
        {
          "output_type": "display_data",
          "data": {
            "application/vnd.jupyter.widget-view+json": {
              "model_id": "842f0547d1da4bf28363cb48f55fbe9e",
              "version_minor": 0,
              "version_major": 2
            },
            "text/plain": [
              "  0%|          | 0/100 [00:00<?, ?it/s]"
            ]
          },
          "metadata": {}
        },
        {
          "output_type": "stream",
          "name": "stdout",
          "text": [
            "epoch 10\tTrain:  0.11804655 0.9650667\n",
            "epoch 10\tValid:  0.1625019 0.9544\n",
            "epoch 20\tTrain:  0.06685985 0.98083335\n",
            "epoch 20\tValid:  0.14951816 0.9598\n",
            "epoch 30\tTrain:  0.038822394 0.98965\n",
            "epoch 30\tValid:  0.16161345 0.9615\n",
            "epoch 40\tTrain:  0.024791006 0.99303335\n",
            "epoch 40\tValid:  0.1977149 0.9609\n",
            "epoch 50\tTrain:  0.022503546 0.99325\n",
            "epoch 50\tValid:  0.23402147 0.9598\n",
            "epoch 60\tTrain:  0.010090233 0.99695\n",
            "epoch 60\tValid:  0.26583478 0.9582\n",
            "epoch 70\tTrain:  0.009589172 0.99691665\n",
            "epoch 70\tValid:  0.3103107 0.9583\n",
            "epoch 80\tTrain:  0.008987488 0.99698335\n",
            "epoch 80\tValid:  0.3208811 0.961\n",
            "epoch 90\tTrain:  0.00970739 0.99663335\n",
            "epoch 90\tValid:  0.380569 0.9551\n",
            "epoch 100\tTrain:  0.0053459005 0.9982\n",
            "epoch 100\tValid:  0.3472313 0.9615\n",
            "Complete: 981.1518929004669\n"
          ]
        }
      ]
    },
    {
      "cell_type": "code",
      "metadata": {
        "id": "mKKDJ_so1t6R"
      },
      "source": [
        ""
      ],
      "execution_count": null,
      "outputs": []
    }
  ]
}