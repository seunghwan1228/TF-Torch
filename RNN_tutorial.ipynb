{
  "nbformat": 4,
  "nbformat_minor": 0,
  "metadata": {
    "colab": {
      "name": "RNN-tutorial.ipynb",
      "provenance": [],
      "collapsed_sections": [],
      "authorship_tag": "ABX9TyMgeQP2VVhZofJ1RPyxZBw0",
      "include_colab_link": true
    },
    "kernelspec": {
      "name": "python3",
      "display_name": "Python 3"
    },
    "language_info": {
      "name": "python"
    },
    "accelerator": "GPU"
  },
  "cells": [
    {
      "cell_type": "markdown",
      "metadata": {
        "id": "view-in-github",
        "colab_type": "text"
      },
      "source": [
        "<a href=\"https://colab.research.google.com/github/seunghwan1228/TF-Torch/blob/main/RNN_tutorial.ipynb\" target=\"_parent\"><img src=\"https://colab.research.google.com/assets/colab-badge.svg\" alt=\"Open In Colab\"/></a>"
      ]
    },
    {
      "cell_type": "code",
      "metadata": {
        "id": "qSr_MYfNzug7"
      },
      "source": [
        "# GPU 인스턴스 사용\n",
        "\n",
        "import tensorflow as tf\n",
        "import numpy as np\n",
        "import matplotlib.pyplot as plt\n",
        "import seaborn as sns\n",
        "\n",
        "import pandas as pd\n",
        "\n",
        "from dataclasses import dataclass\n",
        "\n",
        "import os\n",
        "import warnings\n",
        "\n",
        "warnings.filterwarnings('ignore')"
      ],
      "execution_count": 16,
      "outputs": []
    },
    {
      "cell_type": "code",
      "metadata": {
        "colab": {
          "base_uri": "https://localhost:8080/"
        },
        "id": "qAmbm2Q1z_6Z",
        "outputId": "b5c5728f-9af7-49e6-b194-80d7e842e244"
      },
      "source": [
        "(x_train, y_train), (x_test, y_test) = tf.keras.datasets.imdb.load_data()\n",
        "\n",
        "word_index = tf.keras.datasets.imdb.get_word_index()"
      ],
      "execution_count": 6,
      "outputs": [
        {
          "output_type": "stream",
          "name": "stdout",
          "text": [
            "Downloading data from https://storage.googleapis.com/tensorflow/tf-keras-datasets/imdb_word_index.json\n",
            "1646592/1641221 [==============================] - 0s 0us/step\n",
            "1654784/1641221 [==============================] - 0s 0us/step\n"
          ]
        }
      ]
    },
    {
      "cell_type": "code",
      "metadata": {
        "id": "1JqUeCC83BKB"
      },
      "source": [
        "idx2wor = {v:k for k, v in word_index.items()}"
      ],
      "execution_count": 42,
      "outputs": []
    },
    {
      "cell_type": "code",
      "metadata": {
        "colab": {
          "base_uri": "https://localhost:8080/"
        },
        "id": "zM38okeK-T1o",
        "outputId": "d4d578f9-de87-4174-9d53-45cd61909979"
      },
      "source": [
        "len(word_index)"
      ],
      "execution_count": 116,
      "outputs": [
        {
          "output_type": "execute_result",
          "data": {
            "text/plain": [
              "88584"
            ]
          },
          "metadata": {},
          "execution_count": 116
        }
      ]
    },
    {
      "cell_type": "code",
      "metadata": {
        "colab": {
          "base_uri": "https://localhost:8080/"
        },
        "id": "mRIQMuqh0NSr",
        "outputId": "eec739ca-b467-4b6f-b9b0-dbe681522e71"
      },
      "source": [
        "for n, (k, v) in enumerate(word_index.items()):\n",
        "  print(k, ' -> ', v)\n",
        "  if n == 3:\n",
        "    break"
      ],
      "execution_count": 9,
      "outputs": [
        {
          "output_type": "stream",
          "name": "stdout",
          "text": [
            "fawn  ->  34701\n",
            "tsukino  ->  52006\n",
            "nunnery  ->  52007\n",
            "sonja  ->  16816\n"
          ]
        }
      ]
    },
    {
      "cell_type": "markdown",
      "metadata": {
        "id": "PANYJZOJ3I3q"
      },
      "source": [
        "-------------------------\n",
        "## word_index 와 idx2wor 확인 해보세요\n",
        "\n",
        "\n",
        "-------------------------"
      ]
    },
    {
      "cell_type": "code",
      "metadata": {
        "id": "iEtysIxp3OfD"
      },
      "source": [
        "# word_index"
      ],
      "execution_count": 44,
      "outputs": []
    },
    {
      "cell_type": "code",
      "metadata": {
        "id": "fG1VHc5D3OZ7"
      },
      "source": [
        "# idx2wor"
      ],
      "execution_count": 47,
      "outputs": []
    },
    {
      "cell_type": "code",
      "metadata": {
        "colab": {
          "base_uri": "https://localhost:8080/"
        },
        "id": "ydaLRKgX0jse",
        "outputId": "a76340ba-52e1-48db-cecb-47f628aba849"
      },
      "source": [
        "# Sample data\n",
        "\n",
        "x_train[:5]"
      ],
      "execution_count": 13,
      "outputs": [
        {
          "output_type": "execute_result",
          "data": {
            "text/plain": [
              "array([list([1, 14, 22, 16, 43, 530, 973, 1622, 1385, 65, 458, 4468, 66, 3941, 4, 173, 36, 256, 5, 25, 100, 43, 838, 112, 50, 670, 22665, 9, 35, 480, 284, 5, 150, 4, 172, 112, 167, 21631, 336, 385, 39, 4, 172, 4536, 1111, 17, 546, 38, 13, 447, 4, 192, 50, 16, 6, 147, 2025, 19, 14, 22, 4, 1920, 4613, 469, 4, 22, 71, 87, 12, 16, 43, 530, 38, 76, 15, 13, 1247, 4, 22, 17, 515, 17, 12, 16, 626, 18, 19193, 5, 62, 386, 12, 8, 316, 8, 106, 5, 4, 2223, 5244, 16, 480, 66, 3785, 33, 4, 130, 12, 16, 38, 619, 5, 25, 124, 51, 36, 135, 48, 25, 1415, 33, 6, 22, 12, 215, 28, 77, 52, 5, 14, 407, 16, 82, 10311, 8, 4, 107, 117, 5952, 15, 256, 4, 31050, 7, 3766, 5, 723, 36, 71, 43, 530, 476, 26, 400, 317, 46, 7, 4, 12118, 1029, 13, 104, 88, 4, 381, 15, 297, 98, 32, 2071, 56, 26, 141, 6, 194, 7486, 18, 4, 226, 22, 21, 134, 476, 26, 480, 5, 144, 30, 5535, 18, 51, 36, 28, 224, 92, 25, 104, 4, 226, 65, 16, 38, 1334, 88, 12, 16, 283, 5, 16, 4472, 113, 103, 32, 15, 16, 5345, 19, 178, 32]),\n",
              "       list([1, 194, 1153, 194, 8255, 78, 228, 5, 6, 1463, 4369, 5012, 134, 26, 4, 715, 8, 118, 1634, 14, 394, 20, 13, 119, 954, 189, 102, 5, 207, 110, 3103, 21, 14, 69, 188, 8, 30, 23, 7, 4, 249, 126, 93, 4, 114, 9, 2300, 1523, 5, 647, 4, 116, 9, 35, 8163, 4, 229, 9, 340, 1322, 4, 118, 9, 4, 130, 4901, 19, 4, 1002, 5, 89, 29, 952, 46, 37, 4, 455, 9, 45, 43, 38, 1543, 1905, 398, 4, 1649, 26, 6853, 5, 163, 11, 3215, 10156, 4, 1153, 9, 194, 775, 7, 8255, 11596, 349, 2637, 148, 605, 15358, 8003, 15, 123, 125, 68, 23141, 6853, 15, 349, 165, 4362, 98, 5, 4, 228, 9, 43, 36893, 1157, 15, 299, 120, 5, 120, 174, 11, 220, 175, 136, 50, 9, 4373, 228, 8255, 5, 25249, 656, 245, 2350, 5, 4, 9837, 131, 152, 491, 18, 46151, 32, 7464, 1212, 14, 9, 6, 371, 78, 22, 625, 64, 1382, 9, 8, 168, 145, 23, 4, 1690, 15, 16, 4, 1355, 5, 28, 6, 52, 154, 462, 33, 89, 78, 285, 16, 145, 95]),\n",
              "       list([1, 14, 47, 8, 30, 31, 7, 4, 249, 108, 7, 4, 5974, 54, 61, 369, 13, 71, 149, 14, 22, 112, 4, 2401, 311, 12, 16, 3711, 33, 75, 43, 1829, 296, 4, 86, 320, 35, 534, 19, 263, 4821, 1301, 4, 1873, 33, 89, 78, 12, 66, 16, 4, 360, 7, 4, 58, 316, 334, 11, 4, 1716, 43, 645, 662, 8, 257, 85, 1200, 42, 1228, 2578, 83, 68, 3912, 15, 36, 165, 1539, 278, 36, 69, 44076, 780, 8, 106, 14, 6905, 1338, 18, 6, 22, 12, 215, 28, 610, 40, 6, 87, 326, 23, 2300, 21, 23, 22, 12, 272, 40, 57, 31, 11, 4, 22, 47, 6, 2307, 51, 9, 170, 23, 595, 116, 595, 1352, 13, 191, 79, 638, 89, 51428, 14, 9, 8, 106, 607, 624, 35, 534, 6, 227, 7, 129, 113]),\n",
              "       list([1, 4, 18609, 16085, 33, 2804, 4, 2040, 432, 111, 153, 103, 4, 1494, 13, 70, 131, 67, 11, 61, 15305, 744, 35, 3715, 761, 61, 5766, 452, 9214, 4, 985, 7, 64317, 59, 166, 4, 105, 216, 1239, 41, 1797, 9, 15, 7, 35, 744, 2413, 31, 8, 4, 687, 23, 4, 33929, 7339, 6, 3693, 42, 38, 39, 121, 59, 456, 10, 10, 7, 265, 12, 575, 111, 153, 159, 59, 16, 1447, 21, 25, 586, 482, 39, 4, 96, 59, 716, 12, 4, 172, 65, 9, 579, 11, 6004, 4, 1615, 5, 23005, 7, 5168, 17, 13, 7064, 12, 19, 6, 464, 31, 314, 11, 87564, 6, 719, 605, 11, 8, 202, 27, 310, 4, 3772, 3501, 8, 2722, 58, 10, 10, 537, 2116, 180, 40, 14, 413, 173, 7, 263, 112, 37, 152, 377, 4, 537, 263, 846, 579, 178, 54, 75, 71, 476, 36, 413, 263, 2504, 182, 5, 17, 75, 2306, 922, 36, 279, 131, 2895, 17, 2867, 42, 17, 35, 921, 18435, 192, 5, 1219, 3890, 19, 20523, 217, 4122, 1710, 537, 20341, 1236, 5, 736, 10, 10, 61, 403, 9, 47289, 40, 61, 4494, 5, 27, 4494, 159, 90, 263, 2311, 4319, 309, 8, 178, 5, 82, 4319, 4, 65, 15, 9225, 145, 143, 5122, 12, 7039, 537, 746, 537, 537, 15, 7979, 4, 18665, 594, 7, 5168, 94, 9096, 3987, 15242, 11, 28280, 4, 538, 7, 1795, 246, 56615, 9, 10161, 11, 635, 14, 9, 51, 408, 12, 94, 318, 1382, 12, 47, 6, 2683, 936, 5, 6307, 10197, 19, 49, 7, 4, 1885, 13699, 1118, 25, 80, 126, 842, 10, 10, 47289, 18223, 4726, 27, 4494, 11, 1550, 3633, 159, 27, 341, 29, 2733, 19, 4185, 173, 7, 90, 16376, 8, 30, 11, 4, 1784, 86, 1117, 8, 3261, 46, 11, 25837, 21, 29, 9, 2841, 23, 4, 1010, 26747, 793, 6, 13699, 1386, 1830, 10, 10, 246, 50, 9, 6, 2750, 1944, 746, 90, 29, 16376, 8, 124, 4, 882, 4, 882, 496, 27, 33029, 2213, 537, 121, 127, 1219, 130, 5, 29, 494, 8, 124, 4, 882, 496, 4, 341, 7, 27, 846, 10, 10, 29, 9, 1906, 8, 97, 6, 236, 11120, 1311, 8, 4, 23643, 7, 31, 7, 29851, 91, 22793, 3987, 70, 4, 882, 30, 579, 42, 9, 12, 32, 11, 537, 10, 10, 11, 14, 65, 44, 537, 75, 11876, 1775, 3353, 12716, 1846, 4, 11286, 7, 154, 5, 4, 518, 53, 13243, 11286, 7, 3211, 882, 11, 399, 38, 75, 257, 3807, 19, 18223, 17, 29, 456, 4, 65, 7, 27, 205, 113, 10, 10, 33058, 4, 22793, 10359, 9, 242, 4, 91, 1202, 11377, 5, 2070, 307, 22, 7, 5168, 126, 93, 40, 18223, 13, 188, 1076, 3222, 19, 4, 13465, 7, 2348, 537, 23, 53, 537, 21, 82, 40, 18223, 13, 33195, 14, 280, 13, 219, 4, 52788, 431, 758, 859, 4, 953, 1052, 12283, 7, 5991, 5, 94, 40, 25, 238, 60, 35410, 4, 15812, 804, 27767, 7, 4, 9941, 132, 8, 67, 6, 22, 15, 9, 283, 8, 5168, 14, 31, 9, 242, 955, 48, 25, 279, 22148, 23, 12, 1685, 195, 25, 238, 60, 796, 13713, 4, 671, 7, 2804, 5, 4, 559, 154, 888, 7, 726, 50, 26, 49, 7008, 15, 566, 30, 579, 21, 64, 2574]),\n",
              "       list([1, 249, 1323, 7, 61, 113, 10, 10, 13, 1637, 14, 20, 56, 33, 2401, 18, 457, 88, 13, 2626, 1400, 45, 3171, 13, 70, 79, 49, 706, 919, 13, 16, 355, 340, 355, 1696, 96, 143, 4, 22, 32, 289, 7, 61, 369, 71, 2359, 5, 13, 16, 131, 2073, 249, 114, 249, 229, 249, 20, 13, 28, 126, 110, 13, 473, 8, 569, 61, 419, 56, 429, 6, 1513, 18, 35, 534, 95, 474, 570, 5, 25, 124, 138, 88, 12, 421, 1543, 52, 725, 6397, 61, 419, 11, 13, 1571, 15, 1543, 20, 11, 4, 22016, 5, 296, 12, 3524, 5, 15, 421, 128, 74, 233, 334, 207, 126, 224, 12, 562, 298, 2167, 1272, 7, 2601, 5, 516, 988, 43, 8, 79, 120, 15, 595, 13, 784, 25, 3171, 18, 165, 170, 143, 19, 14, 5, 7224, 6, 226, 251, 7, 61, 113])],\n",
              "      dtype=object)"
            ]
          },
          "metadata": {},
          "execution_count": 13
        }
      ]
    },
    {
      "cell_type": "code",
      "metadata": {
        "id": "CSbxaZyp0pnV"
      },
      "source": [
        "# Sequence max length 확인\n",
        "\n",
        "def max_length(x):\n",
        "  lengths = []\n",
        "  for i in x:\n",
        "    lengths.append(len(i))\n",
        "  \n",
        "  return max(lengths)"
      ],
      "execution_count": 118,
      "outputs": []
    },
    {
      "cell_type": "code",
      "metadata": {
        "colab": {
          "base_uri": "https://localhost:8080/"
        },
        "id": "ZtbQp1Ab1DOw",
        "outputId": "46b85601-fe19-4af4-a615-9b5fbaef3cb6"
      },
      "source": [
        "max_length(x_train)"
      ],
      "execution_count": 18,
      "outputs": [
        {
          "output_type": "execute_result",
          "data": {
            "text/plain": [
              "2494"
            ]
          },
          "metadata": {},
          "execution_count": 18
        }
      ]
    },
    {
      "cell_type": "code",
      "metadata": {
        "id": "it4px3Ov1JIT"
      },
      "source": [
        "@dataclass\n",
        "class Config:\n",
        "  max_length = 500  # 학습 속도를 위해 sequence max lenght 를 500으로 고정\n",
        "\n",
        "  # 아래 create sequence data 함수 확인 후 다시 config 설정\n",
        "  padding_method = 'post'\n",
        "  truncating_method = 'post'\n",
        "  batch_size = 2048\n",
        "\n",
        "  # Model Parameter\n",
        "  num_words = len(word_index) + 1 # 왜 +1을 했을까요?  \n",
        "  embedding_dim = 128\n",
        "  \n",
        "  rnn_units = 32\n",
        "\n",
        "\n",
        "\n",
        "config = Config()"
      ],
      "execution_count": 150,
      "outputs": []
    },
    {
      "cell_type": "code",
      "metadata": {
        "colab": {
          "base_uri": "https://localhost:8080/"
        },
        "id": "vwzjU2G01Pjr",
        "outputId": "c55dff16-ba45-4ac1-c6d1-8ac3dbd6a825"
      },
      "source": [
        "config.max_length # dataclass object 접근 방법"
      ],
      "execution_count": 23,
      "outputs": [
        {
          "output_type": "execute_result",
          "data": {
            "text/plain": [
              "500"
            ]
          },
          "metadata": {},
          "execution_count": 23
        }
      ]
    },
    {
      "cell_type": "code",
      "metadata": {
        "colab": {
          "base_uri": "https://localhost:8080/"
        },
        "id": "EuFTGp181Xf8",
        "outputId": "d9703b06-7dc2-4bc6-b241-c7686552fe1b"
      },
      "source": [
        "y_train[:5]"
      ],
      "execution_count": 26,
      "outputs": [
        {
          "output_type": "execute_result",
          "data": {
            "text/plain": [
              "array([1, 0, 0, 1, 0])"
            ]
          },
          "metadata": {},
          "execution_count": 26
        }
      ]
    },
    {
      "cell_type": "code",
      "metadata": {
        "colab": {
          "base_uri": "https://localhost:8080/",
          "height": 336
        },
        "id": "zb6nLk3g1bdW",
        "outputId": "c533db02-bb64-4561-a362-d3c3f97e1f0a"
      },
      "source": [
        "fig = plt.figure(figsize=(5, 5))\n",
        "plt.title('Y train count plot')\n",
        "sns.countplot(y_train)\n",
        "plt.show()"
      ],
      "execution_count": 34,
      "outputs": [
        {
          "output_type": "display_data",
          "data": {
            "image/png": "[encoded data removed]",
            "text/plain": [
              "<Figure size 360x360 with 1 Axes>"
            ]
          },
          "metadata": {
            "needs_background": "light"
          }
        }
      ]
    },
    {
      "cell_type": "markdown",
      "metadata": {
        "id": "JsEFZJD_1crH"
      },
      "source": [
        "```\n",
        "데이터 로더 \n",
        "\n",
        "Original Data loader \n",
        "  1) Tokenize\n",
        "  2) padding\n",
        "  3) batch\n",
        "\n",
        "\n",
        "\n",
        "IMDB 데이터는 토큰화가 되어 있는 상태임으로 1번 생\n",
        "```\n",
        "\n",
        "공식 문서에서 어떤 메소드가 있는지 확인해 보세요\n",
        "\n",
        "\n",
        "https://www.tensorflow.org/api_docs/python/tf/keras/preprocessing"
      ]
    },
    {
      "cell_type": "code",
      "metadata": {
        "id": "oWOs1po72GSQ"
      },
      "source": [
        "x_train_pad = tf.keras.preprocessing.sequence.pad_sequences(x_train, maxlen=config.max_length, dtype='int32', padding='post', truncating='post') # padding data"
      ],
      "execution_count": 39,
      "outputs": []
    },
    {
      "cell_type": "code",
      "metadata": {
        "colab": {
          "base_uri": "https://localhost:8080/"
        },
        "id": "uIF-o5td2x2n",
        "outputId": "2f88cf00-767c-4831-9745-ee3c3b160aad"
      },
      "source": [
        "x_train_pad[:5], x_train_pad[:5].shape"
      ],
      "execution_count": 41,
      "outputs": [
        {
          "output_type": "execute_result",
          "data": {
            "text/plain": [
              "(array([[    1,    14,    22, ...,     0,     0,     0],\n",
              "        [    1,   194,  1153, ...,     0,     0,     0],\n",
              "        [    1,    14,    47, ...,     0,     0,     0],\n",
              "        [    1,     4, 18609, ...,     7,     4,  9941],\n",
              "        [    1,   249,  1323, ...,     0,     0,     0]], dtype=int32),\n",
              " (5, 500))"
            ]
          },
          "metadata": {},
          "execution_count": 41
        }
      ]
    },
    {
      "cell_type": "code",
      "metadata": {
        "id": "3SkFBdTm2Nwo"
      },
      "source": [
        "# tf.data Data Loader\n",
        "\n",
        "def create_sequence_data(x, y, maxlen, padding_method, truncating_method, batch_size):\n",
        "\n",
        "  x_padded = tf.keras.preprocessing.sequence.pad_sequences(x, maxlen=maxlen, padding=padding_method, truncating=truncating_method)\n",
        "  \n",
        "  ds = tf.data.Dataset.from_tensor_slices((x_padded, y))\n",
        "  ds = ds.batch(batch_size)\n",
        "  ds = ds.prefetch(tf.data.AUTOTUNE)\n",
        "  return ds\n"
      ],
      "execution_count": 151,
      "outputs": []
    },
    {
      "cell_type": "code",
      "metadata": {
        "id": "VmhQlh8d31yl"
      },
      "source": [
        "train_ds = create_sequence_data(x_train, y_train, config.max_length, padding_method=config.padding_method, truncating_method=config.truncating_method, batch_size=config.batch_size)\n",
        "\n",
        "valid_ds = create_sequence_data(x_test, y_test, config.max_length, padding_method=config.padding_method, truncating_method=config.truncating_method, batch_size=config.batch_size)"
      ],
      "execution_count": 152,
      "outputs": []
    },
    {
      "cell_type": "code",
      "metadata": {
        "colab": {
          "base_uri": "https://localhost:8080/"
        },
        "id": "eLucaeTT4Xs2",
        "outputId": "449e29ce-6b08-489f-bb97-b76e543b501c"
      },
      "source": [
        "train_ds, valid_ds"
      ],
      "execution_count": 153,
      "outputs": [
        {
          "output_type": "execute_result",
          "data": {
            "text/plain": [
              "(<PrefetchDataset shapes: ((None, 500), (None,)), types: (tf.int32, tf.int64)>,\n",
              " <PrefetchDataset shapes: ((None, 500), (None,)), types: (tf.int32, tf.int64)>)"
            ]
          },
          "metadata": {},
          "execution_count": 153
        }
      ]
    },
    {
      "cell_type": "code",
      "metadata": {
        "colab": {
          "base_uri": "https://localhost:8080/"
        },
        "id": "vVkdcr4s4ca3",
        "outputId": "0217cfd5-9867-4b5d-bd01-8e4dc550ed31"
      },
      "source": [
        "for sample_seq, sample_target in train_ds.take(1):\n",
        "  pass\n",
        "\n",
        "\n",
        "print(sample_seq)\n",
        "print(sample_target)"
      ],
      "execution_count": 154,
      "outputs": [
        {
          "output_type": "stream",
          "name": "stdout",
          "text": [
            "tf.Tensor(\n",
            "[[   1   14   22 ...    0    0    0]\n",
            " [   1  194 1153 ...    0    0    0]\n",
            " [   1   14   47 ...    0    0    0]\n",
            " ...\n",
            " [   1   51   70 ...    0    0    0]\n",
            " [   1   14   16 ...    0    0    0]\n",
            " [   1   75 4662 ...    0    0    0]], shape=(2048, 500), dtype=int32)\n",
            "tf.Tensor([1 0 0 ... 1 1 0], shape=(2048,), dtype=int64)\n"
          ]
        }
      ]
    },
    {
      "cell_type": "markdown",
      "metadata": {
        "id": "k0TpaZWI4oZc"
      },
      "source": [
        "-------------------------\n",
        "\n",
        "\n",
        "### Tutorial Models\n",
        "\n",
        "1. vanilla RNN\n",
        "\n",
        "2. LSTN\n",
        "  - Directional\n",
        "  - Bidirectional\n",
        "\n",
        "3. GRU\n",
        "  - Directional\n",
        "  - Bidirectional (생략)\n",
        "\n",
        "4. Stacked LSTM\n",
        "\n",
        "5. CNN\n",
        "\n",
        "6. Hybrid (LSTM & CNN)\n",
        "\n",
        "\n",
        "\n",
        "\n",
        "Task Description\n",
        "\n",
        "\n",
        "IMDB는 영화 리뷰에 대한 데이터 입니다.\n",
        "\n",
        "영화 리뷰를 바탕으로 이 리뷰의 뜻이 긍정인지 부정인지를 판단 하는 모델입니다."
      ]
    },
    {
      "cell_type": "code",
      "metadata": {
        "id": "Sdkn66IW6-V-"
      },
      "source": [
        "positive_idx = tf.where(sample_target == 1).numpy().reshape(-1)"
      ],
      "execution_count": 91,
      "outputs": []
    },
    {
      "cell_type": "code",
      "metadata": {
        "id": "UR10JGTi7p8c"
      },
      "source": [
        "negative_idx = tf.where(sample_target == 0).numpy().reshape(-1)"
      ],
      "execution_count": 89,
      "outputs": []
    },
    {
      "cell_type": "code",
      "metadata": {
        "colab": {
          "base_uri": "https://localhost:8080/"
        },
        "id": "9380TyNs7zR8",
        "outputId": "182f27c3-7ce1-4461-86c2-306d3c266d01"
      },
      "source": [
        "positive_idx"
      ],
      "execution_count": 92,
      "outputs": [
        {
          "output_type": "execute_result",
          "data": {
            "text/plain": [
              "array([  0,   3,   6,   8,  10,  16,  17,  19,  22,  24,  25,  28,  31,\n",
              "        32,  33,  37,  40,  44,  45,  46,  48,  56,  58,  59,  63,  64,\n",
              "        65,  66,  67,  68,  69,  70,  73,  74,  76,  79,  80,  83,  84,\n",
              "        88,  97,  98, 104, 108, 109, 111, 113, 116, 118, 119, 120, 122,\n",
              "       123, 124, 139, 140, 142, 143, 144, 145, 147, 148, 149, 150, 151,\n",
              "       154, 155, 162, 163, 165, 167, 170, 171, 172, 174, 175, 177, 178,\n",
              "       179, 180, 185, 187, 195, 196, 197, 200, 203, 207, 210, 211, 213,\n",
              "       215, 216, 217, 218, 221, 223, 225, 226, 228, 229, 232, 233, 234,\n",
              "       235, 236, 237, 238, 241, 243, 244, 245, 247, 248, 252, 254, 255,\n",
              "       256, 257, 258, 261, 262, 264, 265, 268, 269, 270, 271, 272, 274,\n",
              "       275, 277, 278, 279, 280, 283, 285, 286, 289, 294, 299, 300, 302,\n",
              "       305, 307, 308, 309, 314, 315, 316, 317, 319, 320, 321, 323, 324,\n",
              "       326, 329, 330, 331, 332, 334, 335, 336, 338, 339, 341, 344, 345,\n",
              "       346, 347, 348, 349, 357, 358, 361, 362, 364, 366, 367, 368, 369,\n",
              "       373, 378, 379, 383, 385, 386, 387, 389, 390, 392, 393, 394, 396,\n",
              "       397, 400, 402, 403, 404, 405, 407, 413, 416, 419, 421, 422, 423,\n",
              "       424, 427, 428, 433, 436, 438, 439, 440, 442, 444, 445, 447, 448,\n",
              "       449, 454, 455, 457, 458, 460, 461, 463, 465, 466, 468, 469, 470,\n",
              "       471, 472, 473, 474, 475, 476, 478, 480, 482, 484, 487, 488, 491,\n",
              "       494, 495, 497, 501, 502, 503, 504, 506, 508])"
            ]
          },
          "metadata": {},
          "execution_count": 92
        }
      ]
    },
    {
      "cell_type": "code",
      "metadata": {
        "colab": {
          "base_uri": "https://localhost:8080/"
        },
        "id": "EigIImOm4_UQ",
        "outputId": "d19e84a5-9027-448a-f8ac-e6abe7875826"
      },
      "source": [
        "# Data review\n",
        "\n",
        "# Positive\n",
        "print('Positive Example')\n",
        "print(sample_seq[73][:200], sample_target[73])\n",
        "\n",
        "print(('=').center(80, '=') + '\\n')\n",
        "\n",
        "# Negative\n",
        "\n",
        "print('Negative Example')\n",
        "print(sample_seq[1][:200], sample_target[1])"
      ],
      "execution_count": 94,
      "outputs": [
        {
          "output_type": "stream",
          "name": "stdout",
          "text": [
            "Positive Example\n",
            "tf.Tensor(\n",
            "[    1   480   302    18     6    20     7    14    58     6 21574     7\n",
            "     4 30576     7   325     5    89   325   461     6 68128     7   410\n",
            "    10    10     6   389   155    44    14    20     9    12     9   150\n",
            "  1071 11727     5  1439    33  9360 14878    57  2909    57  1913    56\n",
            "  1670   106    12    11    31  1266     5    25    80    30 16149    10\n",
            "    10    13  1347     8  1497    14   509    19    17   111    84    17\n",
            "   614    17    13    69   115   557     7    12   159     5    13   244\n",
            "     6   254  2026   920   924   337    10    10    13    62    40     8\n",
            "    67    89   409  4027     8    14    20    10    10   106    12    10\n",
            "    10   967    12    10    10   376   178    51    25   104     0     0\n",
            "     0     0     0     0     0     0     0     0     0     0     0     0\n",
            "     0     0     0     0     0     0     0     0     0     0     0     0\n",
            "     0     0     0     0     0     0     0     0     0     0     0     0\n",
            "     0     0     0     0     0     0     0     0     0     0     0     0\n",
            "     0     0     0     0     0     0     0     0     0     0     0     0\n",
            "     0     0     0     0     0     0     0     0     0     0     0     0\n",
            "     0     0     0     0     0     0     0     0], shape=(200,), dtype=int32) tf.Tensor(1, shape=(), dtype=int64)\n",
            "================================================================================\n",
            "\n",
            "Negative Example\n",
            "tf.Tensor(\n",
            "[    1   194  1153   194  8255    78   228     5     6  1463  4369  5012\n",
            "   134    26     4   715     8   118  1634    14   394    20    13   119\n",
            "   954   189   102     5   207   110  3103    21    14    69   188     8\n",
            "    30    23     7     4   249   126    93     4   114     9  2300  1523\n",
            "     5   647     4   116     9    35  8163     4   229     9   340  1322\n",
            "     4   118     9     4   130  4901    19     4  1002     5    89    29\n",
            "   952    46    37     4   455     9    45    43    38  1543  1905   398\n",
            "     4  1649    26  6853     5   163    11  3215 10156     4  1153     9\n",
            "   194   775     7  8255 11596   349  2637   148   605 15358  8003    15\n",
            "   123   125    68 23141  6853    15   349   165  4362    98     5     4\n",
            "   228     9    43 36893  1157    15   299   120     5   120   174    11\n",
            "   220   175   136    50     9  4373   228  8255     5 25249   656   245\n",
            "  2350     5     4  9837   131   152   491    18 46151    32  7464  1212\n",
            "    14     9     6   371    78    22   625    64  1382     9     8   168\n",
            "   145    23     4  1690    15    16     4  1355     5    28     6    52\n",
            "   154   462    33    89    78   285    16   145    95     0     0     0\n",
            "     0     0     0     0     0     0     0     0], shape=(200,), dtype=int32) tf.Tensor(0, shape=(), dtype=int64)\n"
          ]
        }
      ]
    },
    {
      "cell_type": "code",
      "metadata": {
        "colab": {
          "base_uri": "https://localhost:8080/"
        },
        "id": "eMBiFmGQ84pd",
        "outputId": "6a7b60ae-f5b0-40c0-db67-cfe6eb32f2f4"
      },
      "source": [
        "type(sample_seq[1][:200].numpy())"
      ],
      "execution_count": 99,
      "outputs": [
        {
          "output_type": "execute_result",
          "data": {
            "text/plain": [
              "numpy.ndarray"
            ]
          },
          "metadata": {},
          "execution_count": 99
        }
      ]
    },
    {
      "cell_type": "code",
      "metadata": {
        "id": "Vb8EhoyH5x0c"
      },
      "source": [
        "def reverse_token(seq):\n",
        "  res = []\n",
        "  for s in seq:\n",
        "    if s != 0:\n",
        "      word = idx2wor[s]\n",
        "      res.append(word)\n",
        "  return ' '.join(res)\n"
      ],
      "execution_count": 114,
      "outputs": []
    },
    {
      "cell_type": "markdown",
      "metadata": {
        "id": "lku2_3xH9ntM"
      },
      "source": [
        "## 파파고... 고"
      ]
    },
    {
      "cell_type": "code",
      "metadata": {
        "colab": {
          "base_uri": "https://localhost:8080/",
          "height": 103
        },
        "id": "yfzBcknE590g",
        "outputId": "1a679867-fa85-4bad-e880-85a1d267c511"
      },
      "source": [
        "reverse_token(sample_seq[1].numpy())"
      ],
      "execution_count": 115,
      "outputs": [
        {
          "output_type": "execute_result",
          "data": {
            "application/vnd.google.colaboratory.intrinsic+json": {
              "type": "string"
            },
            "text/plain": [
              "\"the thought solid thought senator do making to is spot nomination assumed while he of jack in where picked as getting on was did hands fact characters to always life thrillers not as me can't in at are br of sure your way of little it strongly random to view of love it so principles of guy it used producer of where it of here icon film of outside to don't all unique some like of direction it if out her imagination below keep of queen he diverse to makes this stretch stefan of solid it thought begins br senator machinations budget worthwhile though ok brokedown awaiting for ever better were lugia diverse for budget look kicked any to of making it out bosworth's follows for effects show to show cast this family us scenes more it severe making senator to levant's finds tv tend to of emerged these thing wants but fuher an beckinsale cult as it is video do you david see scenery it in few those are of ship for with of wild to one is very work dark they don't do dvd with those them\""
            ]
          },
          "metadata": {},
          "execution_count": 115
        }
      ]
    },
    {
      "cell_type": "markdown",
      "metadata": {
        "id": "tmaSuMmj9r5H"
      },
      "source": [
        "Experiment utilities\n",
        "\n",
        "\n",
        "빠른 실험을 위해 저는 epochs를 `5` 만 주겠습니다"
      ]
    },
    {
      "cell_type": "code",
      "metadata": {
        "id": "oRy787NU9rph"
      },
      "source": [
        "def start_experiment(model, epoch, train_ds, test_ds):\n",
        "  # Compile model\n",
        "  print(model.summary())\n",
        "  \n",
        "  model.compile(loss=tf.keras.losses.BinaryCrossentropy(),\n",
        "                        optimizer=tf.keras.optimizers.Adam(), \n",
        "                        metrics=[tf.keras.metrics.BinaryAccuracy()])\n",
        "\n",
        "  hist = model.fit(train_ds, epochs=epoch, validation_data=valid_ds)\n",
        "  print(model.evaluate(test_ds))\n",
        "\n",
        "  hist_df = pd.DataFrame(hist.history)\n",
        "  \n",
        "  plt.figure()\n",
        "  hist_df.plot()\n",
        "  plt.show()\n",
        "  return hist_df"
      ],
      "execution_count": 167,
      "outputs": []
    },
    {
      "cell_type": "markdown",
      "metadata": {
        "id": "lPfZt3Dn4k5t"
      },
      "source": [
        "Vanilla RNN\n",
        "\n"
      ]
    },
    {
      "cell_type": "code",
      "metadata": {
        "id": "8OBsQE3S4j3n"
      },
      "source": [
        "def vanilla_rnn(config):\n",
        "  input_ = tf.keras.layers.Input(shape=(config.max_length, ), dtype=tf.int32)\n",
        "  x = tf.keras.layers.Embedding(input_dim = config.num_words, output_dim=config.embedding_dim, mask_zero=True)(input_)\n",
        "\n",
        "  x = tf.keras.layers.SimpleRNN(config.rnn_units)(x)\n",
        "\n",
        "  x = tf.keras.layers.Dense(32)(x)\n",
        "  output_ = tf.keras.layers.Dense(1, activation='sigmoid')(x)\n",
        "\n",
        "  model = tf.keras.models.Model(input_, output_)\n",
        "  return model"
      ],
      "execution_count": 165,
      "outputs": []
    },
    {
      "cell_type": "code",
      "metadata": {
        "id": "g3_NPO9g_K05"
      },
      "source": [
        "# Initialize Model\n",
        "\n",
        "# GPU Mermory Release\n",
        "tf.keras.backend.clear_session()\n",
        "vanilla_rnn = vanilla_rnn(config)"
      ],
      "execution_count": 166,
      "outputs": []
    },
    {
      "cell_type": "code",
      "metadata": {
        "colab": {
          "base_uri": "https://localhost:8080/",
          "height": 996
        },
        "id": "4cs0hwM7_nK-",
        "outputId": "f49100d7-2886-448c-bbd3-e2611af7e5f4"
      },
      "source": [
        "start_experiment(vanilla_rnn, 5, train_ds, valid_ds)"
      ],
      "execution_count": 168,
      "outputs": [
        {
          "output_type": "stream",
          "name": "stdout",
          "text": [
            "Model: \"model\"\n",
            "_________________________________________________________________\n",
            "Layer (type)                 Output Shape              Param #   \n",
            "=================================================================\n",
            "input_1 (InputLayer)         [(None, 500)]             0         \n",
            "_________________________________________________________________\n",
            "embedding (Embedding)        (None, 500, 128)          11338880  \n",
            "_________________________________________________________________\n",
            "simple_rnn (SimpleRNN)       (None, 32)                5152      \n",
            "_________________________________________________________________\n",
            "dense (Dense)                (None, 32)                1056      \n",
            "_________________________________________________________________\n",
            "dense_1 (Dense)              (None, 1)                 33        \n",
            "=================================================================\n",
            "Total params: 11,345,121\n",
            "Trainable params: 11,345,121\n",
            "Non-trainable params: 0\n",
            "_________________________________________________________________\n",
            "None\n",
            "Epoch 1/5\n",
            "13/13 [==============================] - 19s 1s/step - loss: 0.6910 - binary_accuracy: 0.5268 - val_loss: 0.6821 - val_binary_accuracy: 0.5681\n",
            "Epoch 2/5\n",
            "13/13 [==============================] - 17s 1s/step - loss: 0.6066 - binary_accuracy: 0.7736 - val_loss: 0.6469 - val_binary_accuracy: 0.6245\n",
            "Epoch 3/5\n",
            "13/13 [==============================] - 17s 1s/step - loss: 0.4125 - binary_accuracy: 0.8882 - val_loss: 0.5650 - val_binary_accuracy: 0.7110\n",
            "Epoch 4/5\n",
            "13/13 [==============================] - 17s 1s/step - loss: 0.2456 - binary_accuracy: 0.9280 - val_loss: 0.4532 - val_binary_accuracy: 0.8042\n",
            "Epoch 5/5\n",
            "13/13 [==============================] - 17s 1s/step - loss: 0.1052 - binary_accuracy: 0.9768 - val_loss: 0.4512 - val_binary_accuracy: 0.8082\n",
            "13/13 [==============================] - 1s 100ms/step - loss: 0.4512 - binary_accuracy: 0.8082\n",
            "[0.4511951804161072, 0.8081600069999695]\n"
          ]
        },
        {
          "output_type": "display_data",
          "data": {
            "text/plain": [
              "<Figure size 432x288 with 0 Axes>"
            ]
          },
          "metadata": {}
        },
        {
          "output_type": "display_data",
          "data": {
            "image/png": "[encoded data removed]",
            "text/plain": [
              "<Figure size 432x288 with 1 Axes>"
            ]
          },
          "metadata": {
            "needs_background": "light"
          }
        },
        {
          "output_type": "execute_result",
          "data": {
            "text/html": [
              "<div>\n",
              "<style scoped>\n",
              "    .dataframe tbody tr th:only-of-type {\n",
              "        vertical-align: middle;\n",
              "    }\n",
              "\n",
              "    .dataframe tbody tr th {\n",
              "        vertical-align: top;\n",
              "    }\n",
              "\n",
              "    .dataframe thead th {\n",
              "        text-align: right;\n",
              "    }\n",
              "</style>\n",
              "<table border=\"1\" class=\"dataframe\">\n",
              "  <thead>\n",
              "    <tr style=\"text-align: right;\">\n",
              "      <th></th>\n",
              "      <th>loss</th>\n",
              "      <th>binary_accuracy</th>\n",
              "      <th>val_loss</th>\n",
              "      <th>val_binary_accuracy</th>\n",
              "    </tr>\n",
              "  </thead>\n",
              "  <tbody>\n",
              "    <tr>\n",
              "      <th>0</th>\n",
              "      <td>0.691012</td>\n",
              "      <td>0.52676</td>\n",
              "      <td>0.682069</td>\n",
              "      <td>0.56812</td>\n",
              "    </tr>\n",
              "    <tr>\n",
              "      <th>1</th>\n",
              "      <td>0.606615</td>\n",
              "      <td>0.77356</td>\n",
              "      <td>0.646900</td>\n",
              "      <td>0.62448</td>\n",
              "    </tr>\n",
              "    <tr>\n",
              "      <th>2</th>\n",
              "      <td>0.412543</td>\n",
              "      <td>0.88816</td>\n",
              "      <td>0.564981</td>\n",
              "      <td>0.71100</td>\n",
              "    </tr>\n",
              "    <tr>\n",
              "      <th>3</th>\n",
              "      <td>0.245604</td>\n",
              "      <td>0.92796</td>\n",
              "      <td>0.453217</td>\n",
              "      <td>0.80424</td>\n",
              "    </tr>\n",
              "    <tr>\n",
              "      <th>4</th>\n",
              "      <td>0.105157</td>\n",
              "      <td>0.97676</td>\n",
              "      <td>0.451195</td>\n",
              "      <td>0.80816</td>\n",
              "    </tr>\n",
              "  </tbody>\n",
              "</table>\n",
              "</div>"
            ],
            "text/plain": [
              "       loss  binary_accuracy  val_loss  val_binary_accuracy\n",
              "0  0.691012          0.52676  0.682069              0.56812\n",
              "1  0.606615          0.77356  0.646900              0.62448\n",
              "2  0.412543          0.88816  0.564981              0.71100\n",
              "3  0.245604          0.92796  0.453217              0.80424\n",
              "4  0.105157          0.97676  0.451195              0.80816"
            ]
          },
          "metadata": {},
          "execution_count": 168
        }
      ]
    },
    {
      "cell_type": "markdown",
      "metadata": {
        "id": "nd--oBB0ECFS"
      },
      "source": [
        "LSTM"
      ]
    },
    {
      "cell_type": "code",
      "metadata": {
        "id": "vcS4d-JDDvoW"
      },
      "source": [
        "def lstm_model(config):\n",
        "  input_ = tf.keras.layers.Input(shape=(config.max_length, ), dtype=tf.int32)\n",
        "  x = tf.keras.layers.Embedding(input_dim = config.num_words, output_dim=config.embedding_dim, mask_zero=True)(input_)\n",
        "\n",
        "  x = tf.keras.layers.LSTM(config.rnn_units)(x)\n",
        "\n",
        "  x = tf.keras.layers.Dense(32)(x)\n",
        "  output_ = tf.keras.layers.Dense(1, activation='sigmoid')(x)\n",
        "\n",
        "  model = tf.keras.models.Model(input_, output_)\n",
        "  return model"
      ],
      "execution_count": 169,
      "outputs": []
    },
    {
      "cell_type": "code",
      "metadata": {
        "id": "G4fyW75lA1NI"
      },
      "source": [
        "tf.keras.backend.clear_session()\n",
        "model = lstm_model(config)"
      ],
      "execution_count": 170,
      "outputs": []
    },
    {
      "cell_type": "code",
      "metadata": {
        "colab": {
          "base_uri": "https://localhost:8080/",
          "height": 996
        },
        "id": "ywStno-VD6d-",
        "outputId": "add09297-272e-4d6a-d38d-7ecfe130aa0f"
      },
      "source": [
        "start_experiment(model, 5, train_ds, valid_ds)"
      ],
      "execution_count": 171,
      "outputs": [
        {
          "output_type": "stream",
          "name": "stdout",
          "text": [
            "Model: \"model\"\n",
            "_________________________________________________________________\n",
            "Layer (type)                 Output Shape              Param #   \n",
            "=================================================================\n",
            "input_1 (InputLayer)         [(None, 500)]             0         \n",
            "_________________________________________________________________\n",
            "embedding (Embedding)        (None, 500, 128)          11338880  \n",
            "_________________________________________________________________\n",
            "lstm (LSTM)                  (None, 32)                20608     \n",
            "_________________________________________________________________\n",
            "dense (Dense)                (None, 32)                1056      \n",
            "_________________________________________________________________\n",
            "dense_1 (Dense)              (None, 1)                 33        \n",
            "=================================================================\n",
            "Total params: 11,360,577\n",
            "Trainable params: 11,360,577\n",
            "Non-trainable params: 0\n",
            "_________________________________________________________________\n",
            "None\n",
            "Epoch 1/5\n",
            "13/13 [==============================] - 12s 516ms/step - loss: 0.6875 - binary_accuracy: 0.5809 - val_loss: 0.6725 - val_binary_accuracy: 0.6860\n",
            "Epoch 2/5\n",
            "13/13 [==============================] - 5s 378ms/step - loss: 0.6098 - binary_accuracy: 0.7532 - val_loss: 0.4715 - val_binary_accuracy: 0.7869\n",
            "Epoch 3/5\n",
            "13/13 [==============================] - 5s 377ms/step - loss: 0.3697 - binary_accuracy: 0.8416 - val_loss: 0.3589 - val_binary_accuracy: 0.8498\n",
            "Epoch 4/5\n",
            "13/13 [==============================] - 5s 374ms/step - loss: 0.2325 - binary_accuracy: 0.9120 - val_loss: 0.3414 - val_binary_accuracy: 0.8666\n",
            "Epoch 5/5\n",
            "13/13 [==============================] - 5s 377ms/step - loss: 0.1498 - binary_accuracy: 0.9497 - val_loss: 0.3683 - val_binary_accuracy: 0.8601\n",
            "13/13 [==============================] - 1s 85ms/step - loss: 0.3683 - binary_accuracy: 0.8601\n",
            "[0.36834990978240967, 0.8600800037384033]\n"
          ]
        },
        {
          "output_type": "display_data",
          "data": {
            "text/plain": [
              "<Figure size 432x288 with 0 Axes>"
            ]
          },
          "metadata": {}
        },
        {
          "output_type": "display_data",
          "data": {
            "image/png": "[encoded data removed]",
            "text/plain": [
              "<Figure size 432x288 with 1 Axes>"
            ]
          },
          "metadata": {
            "needs_background": "light"
          }
        },
        {
          "output_type": "execute_result",
          "data": {
            "text/html": [
              "<div>\n",
              "<style scoped>\n",
              "    .dataframe tbody tr th:only-of-type {\n",
              "        vertical-align: middle;\n",
              "    }\n",
              "\n",
              "    .dataframe tbody tr th {\n",
              "        vertical-align: top;\n",
              "    }\n",
              "\n",
              "    .dataframe thead th {\n",
              "        text-align: right;\n",
              "    }\n",
              "</style>\n",
              "<table border=\"1\" class=\"dataframe\">\n",
              "  <thead>\n",
              "    <tr style=\"text-align: right;\">\n",
              "      <th></th>\n",
              "      <th>loss</th>\n",
              "      <th>binary_accuracy</th>\n",
              "      <th>val_loss</th>\n",
              "      <th>val_binary_accuracy</th>\n",
              "    </tr>\n",
              "  </thead>\n",
              "  <tbody>\n",
              "    <tr>\n",
              "      <th>0</th>\n",
              "      <td>0.687469</td>\n",
              "      <td>0.58092</td>\n",
              "      <td>0.672488</td>\n",
              "      <td>0.68596</td>\n",
              "    </tr>\n",
              "    <tr>\n",
              "      <th>1</th>\n",
              "      <td>0.609825</td>\n",
              "      <td>0.75320</td>\n",
              "      <td>0.471457</td>\n",
              "      <td>0.78688</td>\n",
              "    </tr>\n",
              "    <tr>\n",
              "      <th>2</th>\n",
              "      <td>0.369667</td>\n",
              "      <td>0.84156</td>\n",
              "      <td>0.358915</td>\n",
              "      <td>0.84980</td>\n",
              "    </tr>\n",
              "    <tr>\n",
              "      <th>3</th>\n",
              "      <td>0.232520</td>\n",
              "      <td>0.91204</td>\n",
              "      <td>0.341352</td>\n",
              "      <td>0.86664</td>\n",
              "    </tr>\n",
              "    <tr>\n",
              "      <th>4</th>\n",
              "      <td>0.149768</td>\n",
              "      <td>0.94972</td>\n",
              "      <td>0.368350</td>\n",
              "      <td>0.86008</td>\n",
              "    </tr>\n",
              "  </tbody>\n",
              "</table>\n",
              "</div>"
            ],
            "text/plain": [
              "       loss  binary_accuracy  val_loss  val_binary_accuracy\n",
              "0  0.687469          0.58092  0.672488              0.68596\n",
              "1  0.609825          0.75320  0.471457              0.78688\n",
              "2  0.369667          0.84156  0.358915              0.84980\n",
              "3  0.232520          0.91204  0.341352              0.86664\n",
              "4  0.149768          0.94972  0.368350              0.86008"
            ]
          },
          "metadata": {},
          "execution_count": 171
        }
      ]
    },
    {
      "cell_type": "markdown",
      "metadata": {
        "id": "uHKqsaxfEIA4"
      },
      "source": [
        "Bidirectional"
      ]
    },
    {
      "cell_type": "code",
      "metadata": {
        "id": "0FaYMLODD8TD"
      },
      "source": [
        "def bi_lstm_model(config):\n",
        "  input_ = tf.keras.layers.Input(shape=(config.max_length, ), dtype=tf.int32)\n",
        "  x = tf.keras.layers.Embedding(input_dim = config.num_words, output_dim=config.embedding_dim, mask_zero=True)(input_)\n",
        "\n",
        "  x = tf.keras.layers.Bidirectional(tf.keras.layers.LSTM(config.rnn_units))(x)\n",
        "\n",
        "  x = tf.keras.layers.Dense(32)(x)\n",
        "  output_ = tf.keras.layers.Dense(1, activation='sigmoid')(x)\n",
        "\n",
        "  model = tf.keras.models.Model(input_, output_)\n",
        "  return model"
      ],
      "execution_count": 173,
      "outputs": []
    },
    {
      "cell_type": "code",
      "metadata": {
        "id": "MejQTKgJELiu"
      },
      "source": [
        "tf.keras.backend.clear_session()\n",
        "model = bi_lstm_model(config)"
      ],
      "execution_count": 176,
      "outputs": []
    },
    {
      "cell_type": "code",
      "metadata": {
        "colab": {
          "base_uri": "https://localhost:8080/",
          "height": 979
        },
        "id": "CEmm66SKEPWN",
        "outputId": "c7c67726-adca-4c86-b8cb-6de0c4c0b225"
      },
      "source": [
        "start_experiment(model, 5, train_ds, valid_ds)"
      ],
      "execution_count": 177,
      "outputs": [
        {
          "output_type": "stream",
          "name": "stdout",
          "text": [
            "Model: \"model\"\n",
            "_________________________________________________________________\n",
            "Layer (type)                 Output Shape              Param #   \n",
            "=================================================================\n",
            "input_1 (InputLayer)         [(None, 500)]             0         \n",
            "_________________________________________________________________\n",
            "embedding (Embedding)        (None, 500, 128)          11338880  \n",
            "_________________________________________________________________\n",
            "bidirectional (Bidirectional (None, 64)                41216     \n",
            "_________________________________________________________________\n",
            "dense (Dense)                (None, 32)                2080      \n",
            "_________________________________________________________________\n",
            "dense_1 (Dense)              (None, 1)                 33        \n",
            "=================================================================\n",
            "Total params: 11,382,209\n",
            "Trainable params: 11,382,209\n",
            "Non-trainable params: 0\n",
            "_________________________________________________________________\n",
            "None\n",
            "Epoch 1/5\n",
            "13/13 [==============================] - 22s 1s/step - loss: 0.6840 - binary_accuracy: 0.6128 - val_loss: 0.6614 - val_binary_accuracy: 0.7100\n",
            "Epoch 2/5\n",
            "13/13 [==============================] - 11s 891ms/step - loss: 0.5708 - binary_accuracy: 0.7887 - val_loss: 0.4349 - val_binary_accuracy: 0.8026\n",
            "Epoch 3/5\n",
            "13/13 [==============================] - 11s 887ms/step - loss: 0.3232 - binary_accuracy: 0.8623 - val_loss: 0.3481 - val_binary_accuracy: 0.8483\n",
            "Epoch 4/5\n",
            "13/13 [==============================] - 11s 889ms/step - loss: 0.1975 - binary_accuracy: 0.9243 - val_loss: 0.3707 - val_binary_accuracy: 0.8513\n",
            "Epoch 5/5\n",
            "13/13 [==============================] - 11s 884ms/step - loss: 0.1342 - binary_accuracy: 0.9514 - val_loss: 0.3185 - val_binary_accuracy: 0.8744\n",
            "13/13 [==============================] - 3s 210ms/step - loss: 0.3185 - binary_accuracy: 0.8744\n"
          ]
        },
        {
          "output_type": "display_data",
          "data": {
            "text/plain": [
              "<Figure size 432x288 with 0 Axes>"
            ]
          },
          "metadata": {}
        },
        {
          "output_type": "display_data",
          "data": {
            "image/png": "[encoded data removed]",
            "text/plain": [
              "<Figure size 432x288 with 1 Axes>"
            ]
          },
          "metadata": {
            "needs_background": "light"
          }
        },
        {
          "output_type": "execute_result",
          "data": {
            "text/html": [
              "<div>\n",
              "<style scoped>\n",
              "    .dataframe tbody tr th:only-of-type {\n",
              "        vertical-align: middle;\n",
              "    }\n",
              "\n",
              "    .dataframe tbody tr th {\n",
              "        vertical-align: top;\n",
              "    }\n",
              "\n",
              "    .dataframe thead th {\n",
              "        text-align: right;\n",
              "    }\n",
              "</style>\n",
              "<table border=\"1\" class=\"dataframe\">\n",
              "  <thead>\n",
              "    <tr style=\"text-align: right;\">\n",
              "      <th></th>\n",
              "      <th>loss</th>\n",
              "      <th>binary_accuracy</th>\n",
              "      <th>val_loss</th>\n",
              "      <th>val_binary_accuracy</th>\n",
              "    </tr>\n",
              "  </thead>\n",
              "  <tbody>\n",
              "    <tr>\n",
              "      <th>0</th>\n",
              "      <td>0.684012</td>\n",
              "      <td>0.61284</td>\n",
              "      <td>0.661391</td>\n",
              "      <td>0.71004</td>\n",
              "    </tr>\n",
              "    <tr>\n",
              "      <th>1</th>\n",
              "      <td>0.570847</td>\n",
              "      <td>0.78872</td>\n",
              "      <td>0.434947</td>\n",
              "      <td>0.80264</td>\n",
              "    </tr>\n",
              "    <tr>\n",
              "      <th>2</th>\n",
              "      <td>0.323248</td>\n",
              "      <td>0.86228</td>\n",
              "      <td>0.348075</td>\n",
              "      <td>0.84832</td>\n",
              "    </tr>\n",
              "    <tr>\n",
              "      <th>3</th>\n",
              "      <td>0.197485</td>\n",
              "      <td>0.92428</td>\n",
              "      <td>0.370699</td>\n",
              "      <td>0.85132</td>\n",
              "    </tr>\n",
              "    <tr>\n",
              "      <th>4</th>\n",
              "      <td>0.134226</td>\n",
              "      <td>0.95144</td>\n",
              "      <td>0.318540</td>\n",
              "      <td>0.87440</td>\n",
              "    </tr>\n",
              "  </tbody>\n",
              "</table>\n",
              "</div>"
            ],
            "text/plain": [
              "       loss  binary_accuracy  val_loss  val_binary_accuracy\n",
              "0  0.684012          0.61284  0.661391              0.71004\n",
              "1  0.570847          0.78872  0.434947              0.80264\n",
              "2  0.323248          0.86228  0.348075              0.84832\n",
              "3  0.197485          0.92428  0.370699              0.85132\n",
              "4  0.134226          0.95144  0.318540              0.87440"
            ]
          },
          "metadata": {},
          "execution_count": 177
        }
      ]
    },
    {
      "cell_type": "markdown",
      "metadata": {
        "id": "KtFS351DE2bE"
      },
      "source": [
        "GRU"
      ]
    },
    {
      "cell_type": "code",
      "metadata": {
        "id": "OBygf1IWERsQ"
      },
      "source": [
        "def gru_model(config):\n",
        "  input_ = tf.keras.layers.Input(shape=(config.max_length, ), dtype=tf.int32)\n",
        "  x = tf.keras.layers.Embedding(input_dim = config.num_words, output_dim=config.embedding_dim, mask_zero=True)(input_)\n",
        "\n",
        "  x = tf.keras.layers.GRU(config.rnn_units)(x)\n",
        "\n",
        "  x = tf.keras.layers.Dense(32)(x)\n",
        "  output_ = tf.keras.layers.Dense(1, activation='sigmoid')(x)\n",
        "\n",
        "  model = tf.keras.models.Model(input_, output_)\n",
        "  return model"
      ],
      "execution_count": 178,
      "outputs": []
    },
    {
      "cell_type": "code",
      "metadata": {
        "id": "_tduQkjIE8NR"
      },
      "source": [
        "tf.keras.backend.clear_session()\n",
        "model = gru_model(config)"
      ],
      "execution_count": 179,
      "outputs": []
    },
    {
      "cell_type": "code",
      "metadata": {
        "colab": {
          "base_uri": "https://localhost:8080/",
          "height": 996
        },
        "id": "VIUlef0YEOSU",
        "outputId": "48d36f5b-6eb5-40ad-c610-58f97bd85549"
      },
      "source": [
        "start_experiment(model, 5, train_ds, valid_ds)"
      ],
      "execution_count": 180,
      "outputs": [
        {
          "output_type": "stream",
          "name": "stdout",
          "text": [
            "Model: \"model\"\n",
            "_________________________________________________________________\n",
            "Layer (type)                 Output Shape              Param #   \n",
            "=================================================================\n",
            "input_1 (InputLayer)         [(None, 500)]             0         \n",
            "_________________________________________________________________\n",
            "embedding (Embedding)        (None, 500, 128)          11338880  \n",
            "_________________________________________________________________\n",
            "gru (GRU)                    (None, 32)                15552     \n",
            "_________________________________________________________________\n",
            "dense (Dense)                (None, 32)                1056      \n",
            "_________________________________________________________________\n",
            "dense_1 (Dense)              (None, 1)                 33        \n",
            "=================================================================\n",
            "Total params: 11,355,521\n",
            "Trainable params: 11,355,521\n",
            "Non-trainable params: 0\n",
            "_________________________________________________________________\n",
            "None\n",
            "Epoch 1/5\n",
            "13/13 [==============================] - 11s 517ms/step - loss: 0.6878 - binary_accuracy: 0.5664 - val_loss: 0.6763 - val_binary_accuracy: 0.6269\n",
            "Epoch 2/5\n",
            "13/13 [==============================] - 5s 354ms/step - loss: 0.6462 - binary_accuracy: 0.7052 - val_loss: 0.6243 - val_binary_accuracy: 0.6621\n",
            "Epoch 3/5\n",
            "13/13 [==============================] - 4s 347ms/step - loss: 0.5384 - binary_accuracy: 0.7568 - val_loss: 0.5511 - val_binary_accuracy: 0.7155\n",
            "Epoch 4/5\n",
            "13/13 [==============================] - 4s 347ms/step - loss: 0.3895 - binary_accuracy: 0.8292 - val_loss: 0.4801 - val_binary_accuracy: 0.8047\n",
            "Epoch 5/5\n",
            "13/13 [==============================] - 5s 353ms/step - loss: 0.2422 - binary_accuracy: 0.9006 - val_loss: 0.4321 - val_binary_accuracy: 0.8346\n",
            "13/13 [==============================] - 1s 76ms/step - loss: 0.4321 - binary_accuracy: 0.8346\n",
            "[0.4320797324180603, 0.834559977054596]\n"
          ]
        },
        {
          "output_type": "display_data",
          "data": {
            "text/plain": [
              "<Figure size 432x288 with 0 Axes>"
            ]
          },
          "metadata": {}
        },
        {
          "output_type": "display_data",
          "data": {
            "image/png": "[encoded data removed]",
            "text/plain": [
              "<Figure size 432x288 with 1 Axes>"
            ]
          },
          "metadata": {
            "needs_background": "light"
          }
        },
        {
          "output_type": "execute_result",
          "data": {
            "text/html": [
              "<div>\n",
              "<style scoped>\n",
              "    .dataframe tbody tr th:only-of-type {\n",
              "        vertical-align: middle;\n",
              "    }\n",
              "\n",
              "    .dataframe tbody tr th {\n",
              "        vertical-align: top;\n",
              "    }\n",
              "\n",
              "    .dataframe thead th {\n",
              "        text-align: right;\n",
              "    }\n",
              "</style>\n",
              "<table border=\"1\" class=\"dataframe\">\n",
              "  <thead>\n",
              "    <tr style=\"text-align: right;\">\n",
              "      <th></th>\n",
              "      <th>loss</th>\n",
              "      <th>binary_accuracy</th>\n",
              "      <th>val_loss</th>\n",
              "      <th>val_binary_accuracy</th>\n",
              "    </tr>\n",
              "  </thead>\n",
              "  <tbody>\n",
              "    <tr>\n",
              "      <th>0</th>\n",
              "      <td>0.687801</td>\n",
              "      <td>0.56636</td>\n",
              "      <td>0.676333</td>\n",
              "      <td>0.62692</td>\n",
              "    </tr>\n",
              "    <tr>\n",
              "      <th>1</th>\n",
              "      <td>0.646219</td>\n",
              "      <td>0.70524</td>\n",
              "      <td>0.624330</td>\n",
              "      <td>0.66208</td>\n",
              "    </tr>\n",
              "    <tr>\n",
              "      <th>2</th>\n",
              "      <td>0.538372</td>\n",
              "      <td>0.75680</td>\n",
              "      <td>0.551115</td>\n",
              "      <td>0.71548</td>\n",
              "    </tr>\n",
              "    <tr>\n",
              "      <th>3</th>\n",
              "      <td>0.389523</td>\n",
              "      <td>0.82924</td>\n",
              "      <td>0.480143</td>\n",
              "      <td>0.80472</td>\n",
              "    </tr>\n",
              "    <tr>\n",
              "      <th>4</th>\n",
              "      <td>0.242171</td>\n",
              "      <td>0.90056</td>\n",
              "      <td>0.432080</td>\n",
              "      <td>0.83456</td>\n",
              "    </tr>\n",
              "  </tbody>\n",
              "</table>\n",
              "</div>"
            ],
            "text/plain": [
              "       loss  binary_accuracy  val_loss  val_binary_accuracy\n",
              "0  0.687801          0.56636  0.676333              0.62692\n",
              "1  0.646219          0.70524  0.624330              0.66208\n",
              "2  0.538372          0.75680  0.551115              0.71548\n",
              "3  0.389523          0.82924  0.480143              0.80472\n",
              "4  0.242171          0.90056  0.432080              0.83456"
            ]
          },
          "metadata": {},
          "execution_count": 180
        }
      ]
    },
    {
      "cell_type": "markdown",
      "metadata": {
        "id": "VYYxMlALFGoE"
      },
      "source": [
        "Stacked LSTM or GRU"
      ]
    },
    {
      "cell_type": "code",
      "metadata": {
        "id": "WypTyffLE_es"
      },
      "source": [
        "def stacked_model(config):\n",
        "  input_ = tf.keras.layers.Input(shape=(config.max_length, ), dtype=tf.int32)\n",
        "  x = tf.keras.layers.Embedding(input_dim = config.num_words, output_dim=config.embedding_dim, mask_zero=True)(input_)\n",
        "\n",
        "  x = tf.keras.layers.LSTM(config.rnn_units, return_sequences=True)(x)\n",
        "  x = tf.keras.layers.LSTM(config.rnn_units, return_sequences=True)(x)\n",
        "  x = tf.keras.layers.LSTM(config.rnn_units)(x)\n",
        "\n",
        "  x = tf.keras.layers.Dense(32)(x)\n",
        "  output_ = tf.keras.layers.Dense(1, activation='sigmoid')(x)\n",
        "\n",
        "  model = tf.keras.models.Model(input_, output_)\n",
        "  return model"
      ],
      "execution_count": 183,
      "outputs": []
    },
    {
      "cell_type": "code",
      "metadata": {
        "id": "3ZWO1X4WFTIi"
      },
      "source": [
        "tf.keras.backend.clear_session()\n",
        "model = stacked_model(config)"
      ],
      "execution_count": 184,
      "outputs": []
    },
    {
      "cell_type": "code",
      "metadata": {
        "colab": {
          "base_uri": "https://localhost:8080/",
          "height": 1000
        },
        "id": "GEtiuWIxFWx_",
        "outputId": "72c8350d-723f-46fe-b0cc-5bbec60a6cae"
      },
      "source": [
        "start_experiment(model, 5, train_ds, valid_ds)"
      ],
      "execution_count": 185,
      "outputs": [
        {
          "output_type": "stream",
          "name": "stdout",
          "text": [
            "Model: \"model\"\n",
            "_________________________________________________________________\n",
            "Layer (type)                 Output Shape              Param #   \n",
            "=================================================================\n",
            "input_1 (InputLayer)         [(None, 500)]             0         \n",
            "_________________________________________________________________\n",
            "embedding (Embedding)        (None, 500, 128)          11338880  \n",
            "_________________________________________________________________\n",
            "lstm (LSTM)                  (None, 500, 32)           20608     \n",
            "_________________________________________________________________\n",
            "lstm_1 (LSTM)                (None, 500, 32)           8320      \n",
            "_________________________________________________________________\n",
            "lstm_2 (LSTM)                (None, 32)                8320      \n",
            "_________________________________________________________________\n",
            "dense (Dense)                (None, 32)                1056      \n",
            "_________________________________________________________________\n",
            "dense_1 (Dense)              (None, 1)                 33        \n",
            "=================================================================\n",
            "Total params: 11,377,217\n",
            "Trainable params: 11,377,217\n",
            "Non-trainable params: 0\n",
            "_________________________________________________________________\n",
            "None\n",
            "Epoch 1/5\n",
            "13/13 [==============================] - 29s 1s/step - loss: 0.6915 - binary_accuracy: 0.5429 - val_loss: 0.6820 - val_binary_accuracy: 0.6336\n",
            "Epoch 2/5\n",
            "13/13 [==============================] - 12s 949ms/step - loss: 0.6047 - binary_accuracy: 0.7090 - val_loss: 0.5117 - val_binary_accuracy: 0.7656\n",
            "Epoch 3/5\n",
            "13/13 [==============================] - 12s 947ms/step - loss: 0.3765 - binary_accuracy: 0.8409 - val_loss: 0.3890 - val_binary_accuracy: 0.8406\n",
            "Epoch 4/5\n",
            "13/13 [==============================] - 12s 949ms/step - loss: 0.2241 - binary_accuracy: 0.9196 - val_loss: 0.4003 - val_binary_accuracy: 0.8529\n",
            "Epoch 5/5\n",
            "13/13 [==============================] - 12s 947ms/step - loss: 0.1406 - binary_accuracy: 0.9533 - val_loss: 0.4163 - val_binary_accuracy: 0.8570\n",
            "13/13 [==============================] - 3s 221ms/step - loss: 0.4163 - binary_accuracy: 0.8570\n",
            "[0.4162953197956085, 0.8569999933242798]\n"
          ]
        },
        {
          "output_type": "display_data",
          "data": {
            "text/plain": [
              "<Figure size 432x288 with 0 Axes>"
            ]
          },
          "metadata": {}
        },
        {
          "output_type": "display_data",
          "data": {
            "image/png": "[encoded data removed]",
            "text/plain": [
              "<Figure size 432x288 with 1 Axes>"
            ]
          },
          "metadata": {
            "needs_background": "light"
          }
        },
        {
          "output_type": "execute_result",
          "data": {
            "text/html": [
              "<div>\n",
              "<style scoped>\n",
              "    .dataframe tbody tr th:only-of-type {\n",
              "        vertical-align: middle;\n",
              "    }\n",
              "\n",
              "    .dataframe tbody tr th {\n",
              "        vertical-align: top;\n",
              "    }\n",
              "\n",
              "    .dataframe thead th {\n",
              "        text-align: right;\n",
              "    }\n",
              "</style>\n",
              "<table border=\"1\" class=\"dataframe\">\n",
              "  <thead>\n",
              "    <tr style=\"text-align: right;\">\n",
              "      <th></th>\n",
              "      <th>loss</th>\n",
              "      <th>binary_accuracy</th>\n",
              "      <th>val_loss</th>\n",
              "      <th>val_binary_accuracy</th>\n",
              "    </tr>\n",
              "  </thead>\n",
              "  <tbody>\n",
              "    <tr>\n",
              "      <th>0</th>\n",
              "      <td>0.691469</td>\n",
              "      <td>0.54288</td>\n",
              "      <td>0.681950</td>\n",
              "      <td>0.63356</td>\n",
              "    </tr>\n",
              "    <tr>\n",
              "      <th>1</th>\n",
              "      <td>0.604691</td>\n",
              "      <td>0.70900</td>\n",
              "      <td>0.511679</td>\n",
              "      <td>0.76560</td>\n",
              "    </tr>\n",
              "    <tr>\n",
              "      <th>2</th>\n",
              "      <td>0.376476</td>\n",
              "      <td>0.84088</td>\n",
              "      <td>0.388951</td>\n",
              "      <td>0.84056</td>\n",
              "    </tr>\n",
              "    <tr>\n",
              "      <th>3</th>\n",
              "      <td>0.224074</td>\n",
              "      <td>0.91956</td>\n",
              "      <td>0.400283</td>\n",
              "      <td>0.85288</td>\n",
              "    </tr>\n",
              "    <tr>\n",
              "      <th>4</th>\n",
              "      <td>0.140631</td>\n",
              "      <td>0.95328</td>\n",
              "      <td>0.416295</td>\n",
              "      <td>0.85700</td>\n",
              "    </tr>\n",
              "  </tbody>\n",
              "</table>\n",
              "</div>"
            ],
            "text/plain": [
              "       loss  binary_accuracy  val_loss  val_binary_accuracy\n",
              "0  0.691469          0.54288  0.681950              0.63356\n",
              "1  0.604691          0.70900  0.511679              0.76560\n",
              "2  0.376476          0.84088  0.388951              0.84056\n",
              "3  0.224074          0.91956  0.400283              0.85288\n",
              "4  0.140631          0.95328  0.416295              0.85700"
            ]
          },
          "metadata": {},
          "execution_count": 185
        }
      ]
    },
    {
      "cell_type": "markdown",
      "metadata": {
        "id": "clrpY6SIHeEM"
      },
      "source": [
        "CNN\n",
        "\n",
        "\n",
        "RNN은 인풋의 순서를 State를 통해 전파되는데, CNN의 방식은 어떤방식으로 작동될까요?\n"
      ]
    },
    {
      "cell_type": "code",
      "metadata": {
        "id": "sp2gAkXeHelN"
      },
      "source": [
        "def cnn_model(config):\n",
        "  input_ = tf.keras.layers.Input(shape=(config.max_length, ), dtype=tf.int32)\n",
        "  x = tf.keras.layers.Embedding(input_dim = config.num_words, output_dim=config.embedding_dim, mask_zero=True)(input_)\n",
        "\n",
        "  x = tf.keras.layers.Conv1D(config.rnn_units, kernel_size=7, strides=1, padding='same', activation='relu')(x)\n",
        "  x = tf.keras.layers.MaxPool1D()(x)\n",
        "  x = tf.keras.layers.Conv1D(config.rnn_units, kernel_size=3, strides=1, padding='same', activation='relu')(x)\n",
        "  x = tf.keras.layers.MaxPool1D()(x)\n",
        "  x = tf.keras.layers.Conv1D(config.rnn_units, kernel_size=3, strides=1, padding='same', activation='relu')(x)\n",
        "  x = tf.keras.layers.GlobalAveragePooling1D()(x)\n",
        "  x = tf.keras.layers.Dense(32)(x)\n",
        "  output_ = tf.keras.layers.Dense(1, activation='sigmoid')(x)\n",
        "\n",
        "  model = tf.keras.models.Model(input_, output_)\n",
        "  return model"
      ],
      "execution_count": 186,
      "outputs": []
    },
    {
      "cell_type": "code",
      "metadata": {
        "id": "ECcyHX9sIH9i"
      },
      "source": [
        "tf.keras.backend.clear_session()\n",
        "model = cnn_model(config)"
      ],
      "execution_count": 187,
      "outputs": []
    },
    {
      "cell_type": "code",
      "metadata": {
        "colab": {
          "base_uri": "https://localhost:8080/",
          "height": 1000
        },
        "id": "eTvQpLh4ILjZ",
        "outputId": "c01d6408-1493-4595-d6a7-a75ac84a5d25"
      },
      "source": [
        "start_experiment(model, 5, train_ds, valid_ds)"
      ],
      "execution_count": 188,
      "outputs": [
        {
          "output_type": "stream",
          "name": "stdout",
          "text": [
            "Model: \"model\"\n",
            "_________________________________________________________________\n",
            "Layer (type)                 Output Shape              Param #   \n",
            "=================================================================\n",
            "input_1 (InputLayer)         [(None, 500)]             0         \n",
            "_________________________________________________________________\n",
            "embedding (Embedding)        (None, 500, 128)          11338880  \n",
            "_________________________________________________________________\n",
            "conv1d (Conv1D)              (None, 500, 32)           28704     \n",
            "_________________________________________________________________\n",
            "max_pooling1d (MaxPooling1D) (None, 250, 32)           0         \n",
            "_________________________________________________________________\n",
            "conv1d_1 (Conv1D)            (None, 250, 32)           3104      \n",
            "_________________________________________________________________\n",
            "max_pooling1d_1 (MaxPooling1 (None, 125, 32)           0         \n",
            "_________________________________________________________________\n",
            "conv1d_2 (Conv1D)            (None, 125, 32)           3104      \n",
            "_________________________________________________________________\n",
            "global_average_pooling1d (Gl (None, 32)                0         \n",
            "_________________________________________________________________\n",
            "dense (Dense)                (None, 32)                1056      \n",
            "_________________________________________________________________\n",
            "dense_1 (Dense)              (None, 1)                 33        \n",
            "=================================================================\n",
            "Total params: 11,374,881\n",
            "Trainable params: 11,374,881\n",
            "Non-trainable params: 0\n",
            "_________________________________________________________________\n",
            "None\n",
            "Epoch 1/5\n",
            "13/13 [==============================] - 19s 395ms/step - loss: 0.6925 - binary_accuracy: 0.5144 - val_loss: 0.6903 - val_binary_accuracy: 0.5415\n",
            "Epoch 2/5\n",
            "13/13 [==============================] - 4s 319ms/step - loss: 0.6770 - binary_accuracy: 0.6562 - val_loss: 0.6445 - val_binary_accuracy: 0.7152\n",
            "Epoch 3/5\n",
            "13/13 [==============================] - 4s 322ms/step - loss: 0.5513 - binary_accuracy: 0.8036 - val_loss: 0.4315 - val_binary_accuracy: 0.8354\n",
            "Epoch 4/5\n",
            "13/13 [==============================] - 4s 321ms/step - loss: 0.3053 - binary_accuracy: 0.8873 - val_loss: 0.3265 - val_binary_accuracy: 0.8716\n",
            "Epoch 5/5\n",
            "13/13 [==============================] - 4s 322ms/step - loss: 0.1795 - binary_accuracy: 0.9343 - val_loss: 0.3125 - val_binary_accuracy: 0.8838\n",
            "13/13 [==============================] - 1s 72ms/step - loss: 0.3125 - binary_accuracy: 0.8838\n",
            "[0.3124523162841797, 0.883840024471283]\n"
          ]
        },
        {
          "output_type": "display_data",
          "data": {
            "text/plain": [
              "<Figure size 432x288 with 0 Axes>"
            ]
          },
          "metadata": {}
        },
        {
          "output_type": "display_data",
          "data": {
            "image/png": "[encoded data removed]",
            "text/plain": [
              "<Figure size 432x288 with 1 Axes>"
            ]
          },
          "metadata": {
            "needs_background": "light"
          }
        },
        {
          "output_type": "execute_result",
          "data": {
            "text/html": [
              "<div>\n",
              "<style scoped>\n",
              "    .dataframe tbody tr th:only-of-type {\n",
              "        vertical-align: middle;\n",
              "    }\n",
              "\n",
              "    .dataframe tbody tr th {\n",
              "        vertical-align: top;\n",
              "    }\n",
              "\n",
              "    .dataframe thead th {\n",
              "        text-align: right;\n",
              "    }\n",
              "</style>\n",
              "<table border=\"1\" class=\"dataframe\">\n",
              "  <thead>\n",
              "    <tr style=\"text-align: right;\">\n",
              "      <th></th>\n",
              "      <th>loss</th>\n",
              "      <th>binary_accuracy</th>\n",
              "      <th>val_loss</th>\n",
              "      <th>val_binary_accuracy</th>\n",
              "    </tr>\n",
              "  </thead>\n",
              "  <tbody>\n",
              "    <tr>\n",
              "      <th>0</th>\n",
              "      <td>0.692529</td>\n",
              "      <td>0.51440</td>\n",
              "      <td>0.690267</td>\n",
              "      <td>0.54152</td>\n",
              "    </tr>\n",
              "    <tr>\n",
              "      <th>1</th>\n",
              "      <td>0.677049</td>\n",
              "      <td>0.65620</td>\n",
              "      <td>0.644521</td>\n",
              "      <td>0.71520</td>\n",
              "    </tr>\n",
              "    <tr>\n",
              "      <th>2</th>\n",
              "      <td>0.551296</td>\n",
              "      <td>0.80360</td>\n",
              "      <td>0.431456</td>\n",
              "      <td>0.83544</td>\n",
              "    </tr>\n",
              "    <tr>\n",
              "      <th>3</th>\n",
              "      <td>0.305327</td>\n",
              "      <td>0.88732</td>\n",
              "      <td>0.326538</td>\n",
              "      <td>0.87164</td>\n",
              "    </tr>\n",
              "    <tr>\n",
              "      <th>4</th>\n",
              "      <td>0.179547</td>\n",
              "      <td>0.93428</td>\n",
              "      <td>0.312452</td>\n",
              "      <td>0.88384</td>\n",
              "    </tr>\n",
              "  </tbody>\n",
              "</table>\n",
              "</div>"
            ],
            "text/plain": [
              "       loss  binary_accuracy  val_loss  val_binary_accuracy\n",
              "0  0.692529          0.51440  0.690267              0.54152\n",
              "1  0.677049          0.65620  0.644521              0.71520\n",
              "2  0.551296          0.80360  0.431456              0.83544\n",
              "3  0.305327          0.88732  0.326538              0.87164\n",
              "4  0.179547          0.93428  0.312452              0.88384"
            ]
          },
          "metadata": {},
          "execution_count": 188
        }
      ]
    },
    {
      "cell_type": "markdown",
      "metadata": {
        "id": "3ERhRyHUIcyt"
      },
      "source": [
        "Hybrid"
      ]
    },
    {
      "cell_type": "code",
      "metadata": {
        "id": "JkHZAO4MILtE"
      },
      "source": [
        "def hybrid_model(config):\n",
        "  input_ = tf.keras.layers.Input(shape=(config.max_length, ), dtype=tf.int32)\n",
        "  x = tf.keras.layers.Embedding(input_dim = config.num_words, output_dim=config.embedding_dim, mask_zero=True)(input_)\n",
        "\n",
        "  x = tf.keras.layers.Conv1D(config.rnn_units, kernel_size=7, strides=1, padding='same', activation='relu')(x)\n",
        "  x = tf.keras.layers.MaxPool1D()(x)\n",
        "  x = tf.keras.layers.Conv1D(config.rnn_units, kernel_size=3, strides=1, padding='same', activation='relu')(x)\n",
        "  x = tf.keras.layers.MaxPool1D()(x)\n",
        "\n",
        "  x = tf.keras.layers.Bidirectional(tf.keras.layers.LSTM(config.rnn_units))(x)\n",
        "  x = tf.keras.layers.Dense(32)(x)\n",
        "  output_ = tf.keras.layers.Dense(1, activation='sigmoid')(x)\n",
        "\n",
        "  model = tf.keras.models.Model(input_, output_)\n",
        "  return model"
      ],
      "execution_count": 189,
      "outputs": []
    },
    {
      "cell_type": "code",
      "metadata": {
        "id": "nFFqQk6JIof-"
      },
      "source": [
        "tf.keras.backend.clear_session()\n",
        "model = hybrid_model(config)"
      ],
      "execution_count": 190,
      "outputs": []
    },
    {
      "cell_type": "code",
      "metadata": {
        "colab": {
          "base_uri": "https://localhost:8080/",
          "height": 1000
        },
        "id": "nhzUuvG9IqXN",
        "outputId": "1ad19355-fa14-425d-d68d-54431768ddac"
      },
      "source": [
        "start_experiment(model, 5, train_ds, valid_ds)"
      ],
      "execution_count": 191,
      "outputs": [
        {
          "output_type": "stream",
          "name": "stdout",
          "text": [
            "Model: \"model\"\n",
            "_________________________________________________________________\n",
            "Layer (type)                 Output Shape              Param #   \n",
            "=================================================================\n",
            "input_1 (InputLayer)         [(None, 500)]             0         \n",
            "_________________________________________________________________\n",
            "embedding (Embedding)        (None, 500, 128)          11338880  \n",
            "_________________________________________________________________\n",
            "conv1d (Conv1D)              (None, 500, 32)           28704     \n",
            "_________________________________________________________________\n",
            "max_pooling1d (MaxPooling1D) (None, 250, 32)           0         \n",
            "_________________________________________________________________\n",
            "conv1d_1 (Conv1D)            (None, 250, 32)           3104      \n",
            "_________________________________________________________________\n",
            "max_pooling1d_1 (MaxPooling1 (None, 125, 32)           0         \n",
            "_________________________________________________________________\n",
            "bidirectional (Bidirectional (None, 64)                16640     \n",
            "_________________________________________________________________\n",
            "dense (Dense)                (None, 32)                2080      \n",
            "_________________________________________________________________\n",
            "dense_1 (Dense)              (None, 1)                 33        \n",
            "=================================================================\n",
            "Total params: 11,389,441\n",
            "Trainable params: 11,389,441\n",
            "Non-trainable params: 0\n",
            "_________________________________________________________________\n",
            "None\n",
            "Epoch 1/5\n",
            "13/13 [==============================] - 10s 539ms/step - loss: 0.6917 - binary_accuracy: 0.5264 - val_loss: 0.6857 - val_binary_accuracy: 0.6288\n",
            "Epoch 2/5\n",
            "13/13 [==============================] - 5s 406ms/step - loss: 0.6411 - binary_accuracy: 0.6952 - val_loss: 0.5364 - val_binary_accuracy: 0.7441\n",
            "Epoch 3/5\n",
            "13/13 [==============================] - 5s 402ms/step - loss: 0.3790 - binary_accuracy: 0.8380 - val_loss: 0.3825 - val_binary_accuracy: 0.8372\n",
            "Epoch 4/5\n",
            "13/13 [==============================] - 5s 404ms/step - loss: 0.2092 - binary_accuracy: 0.9233 - val_loss: 0.3767 - val_binary_accuracy: 0.8570\n",
            "Epoch 5/5\n",
            "13/13 [==============================] - 5s 402ms/step - loss: 0.1269 - binary_accuracy: 0.9572 - val_loss: 0.4514 - val_binary_accuracy: 0.8343\n",
            "13/13 [==============================] - 1s 94ms/step - loss: 0.4514 - binary_accuracy: 0.8343\n",
            "[0.4514123499393463, 0.8342800140380859]\n"
          ]
        },
        {
          "output_type": "display_data",
          "data": {
            "text/plain": [
              "<Figure size 432x288 with 0 Axes>"
            ]
          },
          "metadata": {}
        },
        {
          "output_type": "display_data",
          "data": {
            "image/png": "[encoded data removed]",
            "text/plain": [
              "<Figure size 432x288 with 1 Axes>"
            ]
          },
          "metadata": {
            "needs_background": "light"
          }
        },
        {
          "output_type": "execute_result",
          "data": {
            "text/html": [
              "<div>\n",
              "<style scoped>\n",
              "    .dataframe tbody tr th:only-of-type {\n",
              "        vertical-align: middle;\n",
              "    }\n",
              "\n",
              "    .dataframe tbody tr th {\n",
              "        vertical-align: top;\n",
              "    }\n",
              "\n",
              "    .dataframe thead th {\n",
              "        text-align: right;\n",
              "    }\n",
              "</style>\n",
              "<table border=\"1\" class=\"dataframe\">\n",
              "  <thead>\n",
              "    <tr style=\"text-align: right;\">\n",
              "      <th></th>\n",
              "      <th>loss</th>\n",
              "      <th>binary_accuracy</th>\n",
              "      <th>val_loss</th>\n",
              "      <th>val_binary_accuracy</th>\n",
              "    </tr>\n",
              "  </thead>\n",
              "  <tbody>\n",
              "    <tr>\n",
              "      <th>0</th>\n",
              "      <td>0.691733</td>\n",
              "      <td>0.52636</td>\n",
              "      <td>0.685668</td>\n",
              "      <td>0.62880</td>\n",
              "    </tr>\n",
              "    <tr>\n",
              "      <th>1</th>\n",
              "      <td>0.641057</td>\n",
              "      <td>0.69516</td>\n",
              "      <td>0.536359</td>\n",
              "      <td>0.74412</td>\n",
              "    </tr>\n",
              "    <tr>\n",
              "      <th>2</th>\n",
              "      <td>0.379049</td>\n",
              "      <td>0.83804</td>\n",
              "      <td>0.382547</td>\n",
              "      <td>0.83716</td>\n",
              "    </tr>\n",
              "    <tr>\n",
              "      <th>3</th>\n",
              "      <td>0.209212</td>\n",
              "      <td>0.92328</td>\n",
              "      <td>0.376696</td>\n",
              "      <td>0.85700</td>\n",
              "    </tr>\n",
              "    <tr>\n",
              "      <th>4</th>\n",
              "      <td>0.126929</td>\n",
              "      <td>0.95724</td>\n",
              "      <td>0.451412</td>\n",
              "      <td>0.83428</td>\n",
              "    </tr>\n",
              "  </tbody>\n",
              "</table>\n",
              "</div>"
            ],
            "text/plain": [
              "       loss  binary_accuracy  val_loss  val_binary_accuracy\n",
              "0  0.691733          0.52636  0.685668              0.62880\n",
              "1  0.641057          0.69516  0.536359              0.74412\n",
              "2  0.379049          0.83804  0.382547              0.83716\n",
              "3  0.209212          0.92328  0.376696              0.85700\n",
              "4  0.126929          0.95724  0.451412              0.83428"
            ]
          },
          "metadata": {},
          "execution_count": 191
        }
      ]
    },
    {
      "cell_type": "markdown",
      "metadata": {
        "id": "treMFWjgI2qG"
      },
      "source": [
        "Q: Simple RNN 은 파리미터가 LSTM에 비해 적은데 왜 학습 속도가 더 느린가요?\n",
        "\n",
        "A: Tensorflow의 LSTM은 dropout을 적용하지 않으면 CUDNN-LSTM이라는 cuda 가속 lstm을 사용합니다. 물론 rnn도 학습시 gpu를 사용하지만, cudnn-lstm은 cuda에서의 학습 속도를 개선시킨 레이어입니다.\n",
        "\n",
        "-----------------------------\n",
        "\n",
        "Q: CNN은 어떤 역활을 하는 건가요?\n",
        "\n",
        "A: CNN알고리즘은 kernel_size를 통해서 시퀸스를 하나의 윈도우로 묶고, 이에 대한 convolution 알고리즘을 사용합니다, 따라서 해당 윈도우의 정보를 그룹화 하는 역활과 N-gram의 역활을 함께 할수 있습니다.\n",
        "\n",
        "N-Gram??\n",
        "\n",
        "https://wikidocs.net/21692\n",
        "\n",
        "\n",
        "-----------------------------\n",
        "\n",
        "Q: Config의 num_words에 +1은 무슨 의미 인가요?\n",
        "\n",
        "A: Config에 num_words에 +1 을 한 이유는, 바로 padding-token인 0 이 우리 데이터 상에 있기 때문입니다\n",
        "\n",
        "\n",
        "-----------------------------\n",
        "\n",
        "Q: Embedding 레이어의 mask_zero는 어떤 의미인가요?\n",
        "\n",
        "A: 현재 구성된 데이터는 0이라는 패딩 value가 있는데, 모델 학습시 value=0에 대한 mask를 통해 무시하게 하는 효과가 있습니다\n",
        "\n",
        "\n",
        "\n",
        "\n",
        "\n",
        "-------------------------------------------\n"
      ]
    },
    {
      "cell_type": "markdown",
      "metadata": {
        "id": "_TuNYyZ2BwnC"
      },
      "source": [
        "## Config와 다양한 모델을 테스트 해보세요"
      ]
    }
  ]
}